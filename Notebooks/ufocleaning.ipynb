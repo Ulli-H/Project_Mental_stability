{
 "cells": [
  {
   "cell_type": "code",
   "execution_count": 1,
   "metadata": {},
   "outputs": [],
   "source": [
    "%matplotlib inline\n",
    "import pandas as pd\n",
    "import numpy as np\n",
    "from numpy import arange\n",
    "import math\n",
    "\n",
    "import seaborn as sns\n",
    "sns.set_style(\"white\")\n",
    "\n",
    "import scipy as sp\n",
    "from scipy import linalg, optimize\n",
    "\n",
    "import statsmodels.api as sm\n",
    "from statsmodels.sandbox.regression.predstd import wls_prediction_std\n",
    "\n",
    "import collections\n",
    "from collections import Counter\n",
    "\n",
    "import matplotlib as mpl\n",
    "import matplotlib.pyplot as plt\n",
    "import matplotlib.path as mpath\n",
    "from matplotlib.dates import DateFormatter\n",
    "\n",
    "import calendar\n",
    "import datetime as dt\n",
    "fromtimestamp = dt.datetime.fromtimestamp\n"
   ]
  },
  {
   "cell_type": "code",
   "execution_count": 2,
   "metadata": {},
   "outputs": [],
   "source": [
    "df = pd.read_csv('ufo.csv')"
   ]
  },
  {
   "cell_type": "code",
   "execution_count": 3,
   "metadata": {},
   "outputs": [
    {
     "data": {
      "text/html": [
       "<div>\n",
       "<style scoped>\n",
       "    .dataframe tbody tr th:only-of-type {\n",
       "        vertical-align: middle;\n",
       "    }\n",
       "\n",
       "    .dataframe tbody tr th {\n",
       "        vertical-align: top;\n",
       "    }\n",
       "\n",
       "    .dataframe thead th {\n",
       "        text-align: right;\n",
       "    }\n",
       "</style>\n",
       "<table border=\"1\" class=\"dataframe\">\n",
       "  <thead>\n",
       "    <tr style=\"text-align: right;\">\n",
       "      <th></th>\n",
       "      <th>datetime</th>\n",
       "      <th>City</th>\n",
       "      <th>State</th>\n",
       "      <th>Shape</th>\n",
       "      <th>Duration</th>\n",
       "      <th>Summary</th>\n",
       "      <th>Posted</th>\n",
       "      <th>Unnamed: 7</th>\n",
       "      <th>Unnamed: 8</th>\n",
       "      <th>Unnamed: 9</th>\n",
       "      <th>Unnamed: 10</th>\n",
       "    </tr>\n",
       "  </thead>\n",
       "  <tbody>\n",
       "    <tr>\n",
       "      <th>0</th>\n",
       "      <td>2006-01-01 01:20:00</td>\n",
       "      <td>I-80 (unknown city proximity)</td>\n",
       "      <td>NY</td>\n",
       "      <td>Formation</td>\n",
       "      <td>0 days 00:00:20.000000000</td>\n",
       "      <td>Traveling from Brooklyn, NY to Groton, NY on I...</td>\n",
       "      <td>6/7/19</td>\n",
       "      <td>NaN</td>\n",
       "      <td>NaN</td>\n",
       "      <td>NaN</td>\n",
       "      <td>NaN</td>\n",
       "    </tr>\n",
       "  </tbody>\n",
       "</table>\n",
       "</div>"
      ],
      "text/plain": [
       "              datetime                           City State      Shape  \\\n",
       "0  2006-01-01 01:20:00  I-80 (unknown city proximity)    NY  Formation   \n",
       "\n",
       "                    Duration  \\\n",
       "0  0 days 00:00:20.000000000   \n",
       "\n",
       "                                             Summary  Posted Unnamed: 7  \\\n",
       "0  Traveling from Brooklyn, NY to Groton, NY on I...  6/7/19        NaN   \n",
       "\n",
       "  Unnamed: 8 Unnamed: 9 Unnamed: 10  \n",
       "0        NaN        NaN         NaN  "
      ]
     },
     "execution_count": 3,
     "metadata": {},
     "output_type": "execute_result"
    }
   ],
   "source": [
    "df.head(1)"
   ]
  },
  {
   "cell_type": "code",
   "execution_count": 4,
   "metadata": {},
   "outputs": [
    {
     "data": {
      "text/plain": [
       "Index(['datetime', 'City', 'State', 'Shape', 'Duration', 'Summary', 'Posted',\n",
       "       'Unnamed: 7', 'Unnamed: 8', 'Unnamed: 9', 'Unnamed: 10'],\n",
       "      dtype='object')"
      ]
     },
     "execution_count": 4,
     "metadata": {},
     "output_type": "execute_result"
    }
   ],
   "source": [
    "wdf = df.copy()\n",
    "wdf.columns"
   ]
  },
  {
   "cell_type": "code",
   "execution_count": 5,
   "metadata": {},
   "outputs": [
    {
     "data": {
      "text/html": [
       "<div>\n",
       "<style scoped>\n",
       "    .dataframe tbody tr th:only-of-type {\n",
       "        vertical-align: middle;\n",
       "    }\n",
       "\n",
       "    .dataframe tbody tr th {\n",
       "        vertical-align: top;\n",
       "    }\n",
       "\n",
       "    .dataframe thead th {\n",
       "        text-align: right;\n",
       "    }\n",
       "</style>\n",
       "<table border=\"1\" class=\"dataframe\">\n",
       "  <thead>\n",
       "    <tr style=\"text-align: right;\">\n",
       "      <th></th>\n",
       "      <th>datetime</th>\n",
       "      <th>City</th>\n",
       "      <th>State</th>\n",
       "      <th>Shape</th>\n",
       "      <th>Duration</th>\n",
       "      <th>Summary</th>\n",
       "      <th>Posted</th>\n",
       "      <th>Unnamed: 7</th>\n",
       "      <th>Unnamed: 8</th>\n",
       "      <th>Unnamed: 9</th>\n",
       "      <th>Unnamed: 10</th>\n",
       "      <th>datetype</th>\n",
       "    </tr>\n",
       "  </thead>\n",
       "  <tbody>\n",
       "    <tr>\n",
       "      <th>0</th>\n",
       "      <td>2006-01-01 01:20:00</td>\n",
       "      <td>I-80 (unknown city proximity)</td>\n",
       "      <td>NY</td>\n",
       "      <td>Formation</td>\n",
       "      <td>0 days 00:00:20.000000000</td>\n",
       "      <td>Traveling from Brooklyn, NY to Groton, NY on I...</td>\n",
       "      <td>6/7/19</td>\n",
       "      <td>NaN</td>\n",
       "      <td>NaN</td>\n",
       "      <td>NaN</td>\n",
       "      <td>NaN</td>\n",
       "      <td>2006-01-01</td>\n",
       "    </tr>\n",
       "    <tr>\n",
       "      <th>1</th>\n",
       "      <td>2006-01-01 23:00:00</td>\n",
       "      <td>San Antonio/Laredo (between)</td>\n",
       "      <td>TX</td>\n",
       "      <td>Triangle</td>\n",
       "      <td>0 days 00:03:00.000000000</td>\n",
       "      <td>Three separate sightins which ocurred in rural...</td>\n",
       "      <td>6/9/09</td>\n",
       "      <td>NaN</td>\n",
       "      <td>NaN</td>\n",
       "      <td>NaN</td>\n",
       "      <td>NaN</td>\n",
       "      <td>2006-01-01</td>\n",
       "    </tr>\n",
       "    <tr>\n",
       "      <th>2</th>\n",
       "      <td>2006-01-02 00:00:00</td>\n",
       "      <td>Ann Arbor</td>\n",
       "      <td>MI</td>\n",
       "      <td>Changing</td>\n",
       "      <td>0 days 00:03:00.000000000</td>\n",
       "      <td>Probable HOAX: 5 ufos, silent black objects, m...</td>\n",
       "      <td>10/30/06</td>\n",
       "      <td>NaN</td>\n",
       "      <td>NaN</td>\n",
       "      <td>NaN</td>\n",
       "      <td>NaN</td>\n",
       "      <td>2006-01-02</td>\n",
       "    </tr>\n",
       "    <tr>\n",
       "      <th>3</th>\n",
       "      <td>2006-01-02 00:00:00</td>\n",
       "      <td>Fredericksburg</td>\n",
       "      <td>VA</td>\n",
       "      <td>Light</td>\n",
       "      <td>0 days 00:02:00.000000000</td>\n",
       "      <td>clear sky looked like a star 10:00 am in the m...</td>\n",
       "      <td>2/1/07</td>\n",
       "      <td>NaN</td>\n",
       "      <td>NaN</td>\n",
       "      <td>NaN</td>\n",
       "      <td>NaN</td>\n",
       "      <td>2006-01-02</td>\n",
       "    </tr>\n",
       "    <tr>\n",
       "      <th>4</th>\n",
       "      <td>2006-01-04 07:45:00</td>\n",
       "      <td>Scotland</td>\n",
       "      <td>PA</td>\n",
       "      <td>Light</td>\n",
       "      <td>0 days 00:01:00.000000000</td>\n",
       "      <td>Small, white, light in the northeast sky...dis...</td>\n",
       "      <td>2/1/07</td>\n",
       "      <td>NaN</td>\n",
       "      <td>NaN</td>\n",
       "      <td>NaN</td>\n",
       "      <td>NaN</td>\n",
       "      <td>2006-01-04</td>\n",
       "    </tr>\n",
       "  </tbody>\n",
       "</table>\n",
       "</div>"
      ],
      "text/plain": [
       "              datetime                           City State      Shape  \\\n",
       "0  2006-01-01 01:20:00  I-80 (unknown city proximity)    NY  Formation   \n",
       "1  2006-01-01 23:00:00   San Antonio/Laredo (between)    TX   Triangle   \n",
       "2  2006-01-02 00:00:00                      Ann Arbor    MI   Changing   \n",
       "3  2006-01-02 00:00:00                 Fredericksburg    VA      Light   \n",
       "4  2006-01-04 07:45:00                       Scotland    PA      Light   \n",
       "\n",
       "                    Duration  \\\n",
       "0  0 days 00:00:20.000000000   \n",
       "1  0 days 00:03:00.000000000   \n",
       "2  0 days 00:03:00.000000000   \n",
       "3  0 days 00:02:00.000000000   \n",
       "4  0 days 00:01:00.000000000   \n",
       "\n",
       "                                             Summary    Posted Unnamed: 7  \\\n",
       "0  Traveling from Brooklyn, NY to Groton, NY on I...    6/7/19        NaN   \n",
       "1  Three separate sightins which ocurred in rural...    6/9/09        NaN   \n",
       "2  Probable HOAX: 5 ufos, silent black objects, m...  10/30/06        NaN   \n",
       "3  clear sky looked like a star 10:00 am in the m...    2/1/07        NaN   \n",
       "4  Small, white, light in the northeast sky...dis...    2/1/07        NaN   \n",
       "\n",
       "  Unnamed: 8 Unnamed: 9 Unnamed: 10    datetype  \n",
       "0        NaN        NaN         NaN  2006-01-01  \n",
       "1        NaN        NaN         NaN  2006-01-01  \n",
       "2        NaN        NaN         NaN  2006-01-02  \n",
       "3        NaN        NaN         NaN  2006-01-02  \n",
       "4        NaN        NaN         NaN  2006-01-04  "
      ]
     },
     "execution_count": 5,
     "metadata": {},
     "output_type": "execute_result"
    }
   ],
   "source": [
    "wdf['datetype'] = pd.to_datetime(wdf['datetime']).dt.date\n",
    "wdf.head()"
   ]
  },
  {
   "cell_type": "code",
   "execution_count": 6,
   "metadata": {},
   "outputs": [],
   "source": [
    "wdf['dttyp'] = pd.to_datetime(wdf['datetype'])"
   ]
  },
  {
   "cell_type": "code",
   "execution_count": 7,
   "metadata": {},
   "outputs": [
    {
     "name": "stderr",
     "output_type": "stream",
     "text": [
      "<ipython-input-7-b9d7638e36fd>:1: FutureWarning: Series.dt.weekofyear and Series.dt.week have been deprecated.  Please use Series.dt.isocalendar().week instead.\n",
      "  wdf['weeknum'] = wdf['dttyp'].dt.week\n"
     ]
    }
   ],
   "source": [
    "wdf['weeknum'] = wdf['dttyp'].dt.week"
   ]
  },
  {
   "cell_type": "code",
   "execution_count": 8,
   "metadata": {},
   "outputs": [
    {
     "name": "stderr",
     "output_type": "stream",
     "text": [
      "<ipython-input-8-6f1049e9a1ef>:1: FutureWarning: Series.dt.weekofyear and Series.dt.week have been deprecated.  Please use Series.dt.isocalendar().week instead.\n",
      "  wdf['weekofyear'] = wdf['dttyp'].dt.weekofyear\n"
     ]
    }
   ],
   "source": [
    "wdf['weekofyear'] = wdf['dttyp'].dt.weekofyear"
   ]
  },
  {
   "cell_type": "code",
   "execution_count": 9,
   "metadata": {},
   "outputs": [],
   "source": [
    "wdf['year'] = wdf['dttyp'].dt.year"
   ]
  },
  {
   "cell_type": "code",
   "execution_count": 10,
   "metadata": {},
   "outputs": [],
   "source": [
    "wdf['year_week'] = wdf['year'].astype(str) + \"-\" + wdf['weekofyear'].astype(str)"
   ]
  },
  {
   "cell_type": "code",
   "execution_count": 11,
   "metadata": {},
   "outputs": [],
   "source": [
    "wdf = wdf.drop(columns=['Unnamed: 7', 'Unnamed: 8', 'Unnamed: 9', 'Unnamed: 10', 'datetype'])"
   ]
  },
  {
   "cell_type": "code",
   "execution_count": 12,
   "metadata": {},
   "outputs": [],
   "source": [
    "wdf = wdf.drop(columns=['datetime','weeknum'])"
   ]
  },
  {
   "cell_type": "code",
   "execution_count": 13,
   "metadata": {},
   "outputs": [
    {
     "data": {
      "text/html": [
       "<div>\n",
       "<style scoped>\n",
       "    .dataframe tbody tr th:only-of-type {\n",
       "        vertical-align: middle;\n",
       "    }\n",
       "\n",
       "    .dataframe tbody tr th {\n",
       "        vertical-align: top;\n",
       "    }\n",
       "\n",
       "    .dataframe thead th {\n",
       "        text-align: right;\n",
       "    }\n",
       "</style>\n",
       "<table border=\"1\" class=\"dataframe\">\n",
       "  <thead>\n",
       "    <tr style=\"text-align: right;\">\n",
       "      <th></th>\n",
       "      <th>City</th>\n",
       "      <th>State</th>\n",
       "      <th>Shape</th>\n",
       "      <th>Duration</th>\n",
       "      <th>Summary</th>\n",
       "      <th>Posted</th>\n",
       "      <th>dttyp</th>\n",
       "      <th>weekofyear</th>\n",
       "      <th>year</th>\n",
       "      <th>year_week</th>\n",
       "    </tr>\n",
       "  </thead>\n",
       "  <tbody>\n",
       "    <tr>\n",
       "      <th>0</th>\n",
       "      <td>I-80 (unknown city proximity)</td>\n",
       "      <td>NY</td>\n",
       "      <td>Formation</td>\n",
       "      <td>0 days 00:00:20.000000000</td>\n",
       "      <td>Traveling from Brooklyn, NY to Groton, NY on I...</td>\n",
       "      <td>6/7/19</td>\n",
       "      <td>2006-01-01</td>\n",
       "      <td>52</td>\n",
       "      <td>2006</td>\n",
       "      <td>2006-52</td>\n",
       "    </tr>\n",
       "    <tr>\n",
       "      <th>1</th>\n",
       "      <td>San Antonio/Laredo (between)</td>\n",
       "      <td>TX</td>\n",
       "      <td>Triangle</td>\n",
       "      <td>0 days 00:03:00.000000000</td>\n",
       "      <td>Three separate sightins which ocurred in rural...</td>\n",
       "      <td>6/9/09</td>\n",
       "      <td>2006-01-01</td>\n",
       "      <td>52</td>\n",
       "      <td>2006</td>\n",
       "      <td>2006-52</td>\n",
       "    </tr>\n",
       "    <tr>\n",
       "      <th>2</th>\n",
       "      <td>Ann Arbor</td>\n",
       "      <td>MI</td>\n",
       "      <td>Changing</td>\n",
       "      <td>0 days 00:03:00.000000000</td>\n",
       "      <td>Probable HOAX: 5 ufos, silent black objects, m...</td>\n",
       "      <td>10/30/06</td>\n",
       "      <td>2006-01-02</td>\n",
       "      <td>1</td>\n",
       "      <td>2006</td>\n",
       "      <td>2006-1</td>\n",
       "    </tr>\n",
       "    <tr>\n",
       "      <th>3</th>\n",
       "      <td>Fredericksburg</td>\n",
       "      <td>VA</td>\n",
       "      <td>Light</td>\n",
       "      <td>0 days 00:02:00.000000000</td>\n",
       "      <td>clear sky looked like a star 10:00 am in the m...</td>\n",
       "      <td>2/1/07</td>\n",
       "      <td>2006-01-02</td>\n",
       "      <td>1</td>\n",
       "      <td>2006</td>\n",
       "      <td>2006-1</td>\n",
       "    </tr>\n",
       "    <tr>\n",
       "      <th>4</th>\n",
       "      <td>Scotland</td>\n",
       "      <td>PA</td>\n",
       "      <td>Light</td>\n",
       "      <td>0 days 00:01:00.000000000</td>\n",
       "      <td>Small, white, light in the northeast sky...dis...</td>\n",
       "      <td>2/1/07</td>\n",
       "      <td>2006-01-04</td>\n",
       "      <td>1</td>\n",
       "      <td>2006</td>\n",
       "      <td>2006-1</td>\n",
       "    </tr>\n",
       "  </tbody>\n",
       "</table>\n",
       "</div>"
      ],
      "text/plain": [
       "                            City State      Shape                   Duration  \\\n",
       "0  I-80 (unknown city proximity)    NY  Formation  0 days 00:00:20.000000000   \n",
       "1   San Antonio/Laredo (between)    TX   Triangle  0 days 00:03:00.000000000   \n",
       "2                      Ann Arbor    MI   Changing  0 days 00:03:00.000000000   \n",
       "3                 Fredericksburg    VA      Light  0 days 00:02:00.000000000   \n",
       "4                       Scotland    PA      Light  0 days 00:01:00.000000000   \n",
       "\n",
       "                                             Summary    Posted      dttyp  \\\n",
       "0  Traveling from Brooklyn, NY to Groton, NY on I...    6/7/19 2006-01-01   \n",
       "1  Three separate sightins which ocurred in rural...    6/9/09 2006-01-01   \n",
       "2  Probable HOAX: 5 ufos, silent black objects, m...  10/30/06 2006-01-02   \n",
       "3  clear sky looked like a star 10:00 am in the m...    2/1/07 2006-01-02   \n",
       "4  Small, white, light in the northeast sky...dis...    2/1/07 2006-01-04   \n",
       "\n",
       "   weekofyear  year year_week  \n",
       "0          52  2006   2006-52  \n",
       "1          52  2006   2006-52  \n",
       "2           1  2006    2006-1  \n",
       "3           1  2006    2006-1  \n",
       "4           1  2006    2006-1  "
      ]
     },
     "execution_count": 13,
     "metadata": {},
     "output_type": "execute_result"
    }
   ],
   "source": [
    "wdf.head()"
   ]
  },
  {
   "cell_type": "code",
   "execution_count": 14,
   "metadata": {},
   "outputs": [
    {
     "data": {
      "text/plain": [
       "dtype('<M8[ns]')"
      ]
     },
     "execution_count": 14,
     "metadata": {},
     "output_type": "execute_result"
    }
   ],
   "source": [
    "wdf['dttyp'].dtypes"
   ]
  },
  {
   "cell_type": "code",
   "execution_count": 15,
   "metadata": {},
   "outputs": [],
   "source": [
    "ufodata = pd.DataFrame(wdf['year_week'])"
   ]
  },
  {
   "cell_type": "code",
   "execution_count": 16,
   "metadata": {},
   "outputs": [],
   "source": [
    "ufodata['date_of_sight'] = wdf['dttyp']"
   ]
  },
  {
   "cell_type": "code",
   "execution_count": 17,
   "metadata": {},
   "outputs": [],
   "source": [
    "ufodata['year'] = wdf['year']\n",
    "ufodata['month'] = wdf['dttyp'].dt.month\n",
    "ufodata['week_of_year'] = wdf['weekofyear']\n",
    "ufodata['state'] = wdf['State']\n",
    "ufodata['city'] = wdf['City']\n",
    "ufodata['sight_summary'] = wdf['Summary']\n"
   ]
  },
  {
   "cell_type": "code",
   "execution_count": 18,
   "metadata": {},
   "outputs": [],
   "source": [
    "ufodata['ufo_shape'] = wdf['Shape']"
   ]
  },
  {
   "cell_type": "code",
   "execution_count": 19,
   "metadata": {},
   "outputs": [],
   "source": [
    "ufodata = ufodata.reset_index()"
   ]
  },
  {
   "cell_type": "code",
   "execution_count": 20,
   "metadata": {},
   "outputs": [
    {
     "data": {
      "text/html": [
       "<div>\n",
       "<style scoped>\n",
       "    .dataframe tbody tr th:only-of-type {\n",
       "        vertical-align: middle;\n",
       "    }\n",
       "\n",
       "    .dataframe tbody tr th {\n",
       "        vertical-align: top;\n",
       "    }\n",
       "\n",
       "    .dataframe thead th {\n",
       "        text-align: right;\n",
       "    }\n",
       "</style>\n",
       "<table border=\"1\" class=\"dataframe\">\n",
       "  <thead>\n",
       "    <tr style=\"text-align: right;\">\n",
       "      <th></th>\n",
       "      <th>index</th>\n",
       "      <th>year_week</th>\n",
       "      <th>date_of_sight</th>\n",
       "      <th>year</th>\n",
       "      <th>month</th>\n",
       "      <th>week_of_year</th>\n",
       "      <th>state</th>\n",
       "      <th>city</th>\n",
       "      <th>sight_summary</th>\n",
       "      <th>ufo_shape</th>\n",
       "    </tr>\n",
       "  </thead>\n",
       "  <tbody>\n",
       "    <tr>\n",
       "      <th>0</th>\n",
       "      <td>0</td>\n",
       "      <td>2006-52</td>\n",
       "      <td>2006-01-01</td>\n",
       "      <td>2006</td>\n",
       "      <td>1</td>\n",
       "      <td>52</td>\n",
       "      <td>NY</td>\n",
       "      <td>I-80 (unknown city proximity)</td>\n",
       "      <td>Traveling from Brooklyn, NY to Groton, NY on I...</td>\n",
       "      <td>Formation</td>\n",
       "    </tr>\n",
       "    <tr>\n",
       "      <th>1</th>\n",
       "      <td>1</td>\n",
       "      <td>2006-52</td>\n",
       "      <td>2006-01-01</td>\n",
       "      <td>2006</td>\n",
       "      <td>1</td>\n",
       "      <td>52</td>\n",
       "      <td>TX</td>\n",
       "      <td>San Antonio/Laredo (between)</td>\n",
       "      <td>Three separate sightins which ocurred in rural...</td>\n",
       "      <td>Triangle</td>\n",
       "    </tr>\n",
       "    <tr>\n",
       "      <th>2</th>\n",
       "      <td>2</td>\n",
       "      <td>2006-1</td>\n",
       "      <td>2006-01-02</td>\n",
       "      <td>2006</td>\n",
       "      <td>1</td>\n",
       "      <td>1</td>\n",
       "      <td>MI</td>\n",
       "      <td>Ann Arbor</td>\n",
       "      <td>Probable HOAX: 5 ufos, silent black objects, m...</td>\n",
       "      <td>Changing</td>\n",
       "    </tr>\n",
       "    <tr>\n",
       "      <th>3</th>\n",
       "      <td>3</td>\n",
       "      <td>2006-1</td>\n",
       "      <td>2006-01-02</td>\n",
       "      <td>2006</td>\n",
       "      <td>1</td>\n",
       "      <td>1</td>\n",
       "      <td>VA</td>\n",
       "      <td>Fredericksburg</td>\n",
       "      <td>clear sky looked like a star 10:00 am in the m...</td>\n",
       "      <td>Light</td>\n",
       "    </tr>\n",
       "    <tr>\n",
       "      <th>4</th>\n",
       "      <td>4</td>\n",
       "      <td>2006-1</td>\n",
       "      <td>2006-01-04</td>\n",
       "      <td>2006</td>\n",
       "      <td>1</td>\n",
       "      <td>1</td>\n",
       "      <td>PA</td>\n",
       "      <td>Scotland</td>\n",
       "      <td>Small, white, light in the northeast sky...dis...</td>\n",
       "      <td>Light</td>\n",
       "    </tr>\n",
       "  </tbody>\n",
       "</table>\n",
       "</div>"
      ],
      "text/plain": [
       "   index year_week date_of_sight  year  month  week_of_year state  \\\n",
       "0      0   2006-52    2006-01-01  2006      1            52    NY   \n",
       "1      1   2006-52    2006-01-01  2006      1            52    TX   \n",
       "2      2    2006-1    2006-01-02  2006      1             1    MI   \n",
       "3      3    2006-1    2006-01-02  2006      1             1    VA   \n",
       "4      4    2006-1    2006-01-04  2006      1             1    PA   \n",
       "\n",
       "                            city  \\\n",
       "0  I-80 (unknown city proximity)   \n",
       "1   San Antonio/Laredo (between)   \n",
       "2                      Ann Arbor   \n",
       "3                 Fredericksburg   \n",
       "4                       Scotland   \n",
       "\n",
       "                                       sight_summary  ufo_shape  \n",
       "0  Traveling from Brooklyn, NY to Groton, NY on I...  Formation  \n",
       "1  Three separate sightins which ocurred in rural...   Triangle  \n",
       "2  Probable HOAX: 5 ufos, silent black objects, m...   Changing  \n",
       "3  clear sky looked like a star 10:00 am in the m...      Light  \n",
       "4  Small, white, light in the northeast sky...dis...      Light  "
      ]
     },
     "execution_count": 20,
     "metadata": {},
     "output_type": "execute_result"
    }
   ],
   "source": [
    "ufodata.head()"
   ]
  },
  {
   "cell_type": "code",
   "execution_count": 21,
   "metadata": {},
   "outputs": [],
   "source": [
    "#ufodata.to_csv('ufodata.csv')"
   ]
  },
  {
   "cell_type": "code",
   "execution_count": null,
   "metadata": {},
   "outputs": [],
   "source": []
  },
  {
   "cell_type": "code",
   "execution_count": 23,
   "metadata": {},
   "outputs": [
    {
     "data": {
      "text/html": [
       "<div>\n",
       "<style scoped>\n",
       "    .dataframe tbody tr th:only-of-type {\n",
       "        vertical-align: middle;\n",
       "    }\n",
       "\n",
       "    .dataframe tbody tr th {\n",
       "        vertical-align: top;\n",
       "    }\n",
       "\n",
       "    .dataframe thead th {\n",
       "        text-align: right;\n",
       "    }\n",
       "</style>\n",
       "<table border=\"1\" class=\"dataframe\">\n",
       "  <thead>\n",
       "    <tr style=\"text-align: right;\">\n",
       "      <th></th>\n",
       "      <th>index</th>\n",
       "      <th>year</th>\n",
       "      <th>month</th>\n",
       "      <th>week_of_year</th>\n",
       "    </tr>\n",
       "  </thead>\n",
       "  <tbody>\n",
       "    <tr>\n",
       "      <th>count</th>\n",
       "      <td>71565.000000</td>\n",
       "      <td>71565.000000</td>\n",
       "      <td>71565.000000</td>\n",
       "      <td>71565.000000</td>\n",
       "    </tr>\n",
       "    <tr>\n",
       "      <th>mean</th>\n",
       "      <td>35782.000000</td>\n",
       "      <td>2013.259890</td>\n",
       "      <td>6.841626</td>\n",
       "      <td>27.879857</td>\n",
       "    </tr>\n",
       "    <tr>\n",
       "      <th>std</th>\n",
       "      <td>20659.180344</td>\n",
       "      <td>3.930989</td>\n",
       "      <td>3.261901</td>\n",
       "      <td>14.250315</td>\n",
       "    </tr>\n",
       "    <tr>\n",
       "      <th>min</th>\n",
       "      <td>0.000000</td>\n",
       "      <td>2006.000000</td>\n",
       "      <td>1.000000</td>\n",
       "      <td>1.000000</td>\n",
       "    </tr>\n",
       "    <tr>\n",
       "      <th>25%</th>\n",
       "      <td>17891.000000</td>\n",
       "      <td>2010.000000</td>\n",
       "      <td>4.000000</td>\n",
       "      <td>16.000000</td>\n",
       "    </tr>\n",
       "    <tr>\n",
       "      <th>50%</th>\n",
       "      <td>35782.000000</td>\n",
       "      <td>2013.000000</td>\n",
       "      <td>7.000000</td>\n",
       "      <td>28.000000</td>\n",
       "    </tr>\n",
       "    <tr>\n",
       "      <th>75%</th>\n",
       "      <td>53673.000000</td>\n",
       "      <td>2016.000000</td>\n",
       "      <td>10.000000</td>\n",
       "      <td>39.000000</td>\n",
       "    </tr>\n",
       "    <tr>\n",
       "      <th>max</th>\n",
       "      <td>71564.000000</td>\n",
       "      <td>2020.000000</td>\n",
       "      <td>12.000000</td>\n",
       "      <td>53.000000</td>\n",
       "    </tr>\n",
       "  </tbody>\n",
       "</table>\n",
       "</div>"
      ],
      "text/plain": [
       "              index          year         month  week_of_year\n",
       "count  71565.000000  71565.000000  71565.000000  71565.000000\n",
       "mean   35782.000000   2013.259890      6.841626     27.879857\n",
       "std    20659.180344      3.930989      3.261901     14.250315\n",
       "min        0.000000   2006.000000      1.000000      1.000000\n",
       "25%    17891.000000   2010.000000      4.000000     16.000000\n",
       "50%    35782.000000   2013.000000      7.000000     28.000000\n",
       "75%    53673.000000   2016.000000     10.000000     39.000000\n",
       "max    71564.000000   2020.000000     12.000000     53.000000"
      ]
     },
     "execution_count": 23,
     "metadata": {},
     "output_type": "execute_result"
    }
   ],
   "source": [
    "ufodata.describe()"
   ]
  },
  {
   "cell_type": "code",
   "execution_count": 24,
   "metadata": {},
   "outputs": [
    {
     "data": {
      "text/plain": [
       "71565"
      ]
     },
     "execution_count": 24,
     "metadata": {},
     "output_type": "execute_result"
    }
   ],
   "source": [
    "len(ufodata)"
   ]
  },
  {
   "cell_type": "code",
   "execution_count": null,
   "metadata": {},
   "outputs": [],
   "source": []
  }
 ],
 "metadata": {
  "kernelspec": {
   "display_name": "Python 3",
   "language": "python",
   "name": "python3"
  },
  "language_info": {
   "codemirror_mode": {
    "name": "ipython",
    "version": 3
   },
   "file_extension": ".py",
   "mimetype": "text/x-python",
   "name": "python",
   "nbconvert_exporter": "python",
   "pygments_lexer": "ipython3",
   "version": "3.8.5"
  }
 },
 "nbformat": 4,
 "nbformat_minor": 4
}
