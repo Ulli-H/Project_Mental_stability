{
 "cells": [
  {
   "cell_type": "code",
   "execution_count": 1,
   "metadata": {},
   "outputs": [],
   "source": [
    "# import usual suspects\n",
    "\n",
    "%matplotlib inline\n",
    "import pandas as pd\n",
    "import numpy as np\n",
    "from numpy import arange\n",
    "import math\n",
    "\n",
    "import seaborn as sns\n",
    "sns.set_style(\"white\")\n",
    "\n",
    "import scipy as sp\n",
    "from scipy import linalg, optimize\n",
    "\n",
    "import statsmodels.api as sm\n",
    "from statsmodels.sandbox.regression.predstd import wls_prediction_std\n",
    "from statsmodels.tsa.ar_model import AR\n",
    "from statsmodels.tsa.stattools import adfuller\n",
    "from statsmodels.tsa.arima_model import ARMA\n",
    "\n",
    "import collections\n",
    "from collections import Counter\n",
    "\n",
    "import matplotlib as mpl\n",
    "import matplotlib.pyplot as plt\n",
    "import matplotlib.path as mpath\n",
    "from matplotlib.dates import DateFormatter\n",
    "\n",
    "import calendar\n",
    "import datetime as dt\n",
    "fromtimestamp = dt.datetime.fromtimestamp\n",
    "from datetime import datetime\n",
    "\n",
    "from pandas.plotting import autocorrelation_plot\n",
    "from pandas.plotting import lag_plot"
   ]
  },
  {
   "cell_type": "code",
   "execution_count": 2,
   "metadata": {},
   "outputs": [
    {
     "data": {
      "text/html": [
       "<div>\n",
       "<style scoped>\n",
       "    .dataframe tbody tr th:only-of-type {\n",
       "        vertical-align: middle;\n",
       "    }\n",
       "\n",
       "    .dataframe tbody tr th {\n",
       "        vertical-align: top;\n",
       "    }\n",
       "\n",
       "    .dataframe thead th {\n",
       "        text-align: right;\n",
       "    }\n",
       "</style>\n",
       "<table border=\"1\" class=\"dataframe\">\n",
       "  <thead>\n",
       "    <tr style=\"text-align: right;\">\n",
       "      <th></th>\n",
       "      <th>startdateweek</th>\n",
       "      <th>weekly_ufocount</th>\n",
       "      <th>weekly_ufopct</th>\n",
       "      <th>year</th>\n",
       "      <th>month</th>\n",
       "      <th>weeknum</th>\n",
       "      <th>week_id</th>\n",
       "    </tr>\n",
       "  </thead>\n",
       "  <tbody>\n",
       "    <tr>\n",
       "      <th>0</th>\n",
       "      <td>2014-07-06</td>\n",
       "      <td>470</td>\n",
       "      <td>100.0</td>\n",
       "      <td>2014</td>\n",
       "      <td>7</td>\n",
       "      <td>27</td>\n",
       "      <td>2014-27</td>\n",
       "    </tr>\n",
       "  </tbody>\n",
       "</table>\n",
       "</div>"
      ],
      "text/plain": [
       "  startdateweek  weekly_ufocount  weekly_ufopct  year  month  weeknum  week_id\n",
       "0    2014-07-06              470          100.0  2014      7       27  2014-27"
      ]
     },
     "execution_count": 2,
     "metadata": {},
     "output_type": "execute_result"
    }
   ],
   "source": [
    "# import cleaned weekly ufo data\n",
    "\n",
    "ufo = pd.read_csv('../Data/Datasets/cleandate_weekly_reval.csv',index_col=0)\n",
    "# copy into w(orking)ufo df\n",
    "wufo = ufo.copy().rename(columns={'rel_val_alltime':'weekly_ufopct'})\n",
    "# confirm\n",
    "wufo.head(1)"
   ]
  },
  {
   "cell_type": "code",
   "execution_count": 3,
   "metadata": {},
   "outputs": [
    {
     "data": {
      "text/html": [
       "<div>\n",
       "<style scoped>\n",
       "    .dataframe tbody tr th:only-of-type {\n",
       "        vertical-align: middle;\n",
       "    }\n",
       "\n",
       "    .dataframe tbody tr th {\n",
       "        vertical-align: top;\n",
       "    }\n",
       "\n",
       "    .dataframe thead th {\n",
       "        text-align: right;\n",
       "    }\n",
       "</style>\n",
       "<table border=\"1\" class=\"dataframe\">\n",
       "  <thead>\n",
       "    <tr style=\"text-align: right;\">\n",
       "      <th></th>\n",
       "      <th>startdateweek</th>\n",
       "      <th>weekly_ufocount</th>\n",
       "      <th>weekly_ufopct</th>\n",
       "      <th>year</th>\n",
       "      <th>month</th>\n",
       "      <th>weeknum</th>\n",
       "      <th>week_id</th>\n",
       "      <th>date</th>\n",
       "      <th>const</th>\n",
       "    </tr>\n",
       "  </thead>\n",
       "  <tbody>\n",
       "    <tr>\n",
       "      <th>763</th>\n",
       "      <td>2006-01-08</td>\n",
       "      <td>3</td>\n",
       "      <td>0.638298</td>\n",
       "      <td>2006</td>\n",
       "      <td>1</td>\n",
       "      <td>1</td>\n",
       "      <td>2006-1</td>\n",
       "      <td>2006-01-08</td>\n",
       "      <td>1</td>\n",
       "    </tr>\n",
       "    <tr>\n",
       "      <th>758</th>\n",
       "      <td>2006-01-15</td>\n",
       "      <td>8</td>\n",
       "      <td>1.702128</td>\n",
       "      <td>2006</td>\n",
       "      <td>1</td>\n",
       "      <td>2</td>\n",
       "      <td>2006-2</td>\n",
       "      <td>2006-01-15</td>\n",
       "      <td>1</td>\n",
       "    </tr>\n",
       "  </tbody>\n",
       "</table>\n",
       "</div>"
      ],
      "text/plain": [
       "    startdateweek  weekly_ufocount  weekly_ufopct  year  month  weeknum  \\\n",
       "763    2006-01-08                3       0.638298  2006      1        1   \n",
       "758    2006-01-15                8       1.702128  2006      1        2   \n",
       "\n",
       "    week_id        date  const  \n",
       "763  2006-1  2006-01-08      1  \n",
       "758  2006-2  2006-01-15      1  "
      ]
     },
     "execution_count": 3,
     "metadata": {},
     "output_type": "execute_result"
    }
   ],
   "source": [
    "# add date col and sort values\n",
    "\n",
    "wufo['date'] = ufo['startdateweek']\n",
    "wufo = wufo.sort_values('date')\n",
    "wufo['const'] = 1\n",
    "# confirm\n",
    "wufo.head(2)"
   ]
  },
  {
   "cell_type": "code",
   "execution_count": 4,
   "metadata": {},
   "outputs": [
    {
     "data": {
      "text/plain": [
       "DatetimeIndex(['2006-01-08', '2006-01-15', '2006-01-22', '2006-01-29',\n",
       "               '2006-02-05', '2006-02-12', '2006-02-19', '2006-02-26',\n",
       "               '2006-03-05', '2006-03-12',\n",
       "               ...\n",
       "               '2020-07-05', '2020-07-12', '2020-07-19', '2020-07-26',\n",
       "               '2020-08-02', '2020-08-09', '2020-08-16', '2020-08-23',\n",
       "               '2020-08-30', '2020-09-06'],\n",
       "              dtype='datetime64[ns]', name='date', length=766, freq='W-SUN')"
      ]
     },
     "execution_count": 4,
     "metadata": {},
     "output_type": "execute_result"
    }
   ],
   "source": [
    "# make date col datetime and set index to date\n",
    "\n",
    "wufo.date = pd.to_datetime(wufo.date)\n",
    "wufo.index = pd.DatetimeIndex(wufo.date, freq='W')\n",
    "# confirm\n",
    "wufo.index"
   ]
  },
  {
   "cell_type": "code",
   "execution_count": 5,
   "metadata": {},
   "outputs": [],
   "source": [
    "#############################################################################################\n",
    "#\n",
    "# creating time series plot for monthly means of ufo percentage vals all time"
   ]
  },
  {
   "cell_type": "code",
   "execution_count": 6,
   "metadata": {},
   "outputs": [
    {
     "data": {
      "text/plain": [
       "<AxesSubplot:xlabel='date'>"
      ]
     },
     "execution_count": 6,
     "metadata": {},
     "output_type": "execute_result"
    },
    {
     "data": {
      "image/png": "[encoded data removed]",
      "text/plain": [
       "<Figure size 1080x504 with 1 Axes>"
      ]
     },
     "metadata": {},
     "output_type": "display_data"
    }
   ],
   "source": [
    "# creating time series plot for measured relative ufo vals all time\n",
    "\n",
    "data = wufo.get('weekly_ufopct')\n",
    "df = pd.DataFrame(data)\n",
    "df.plot(figsize=(15,7))"
   ]
  },
  {
   "cell_type": "code",
   "execution_count": 7,
   "metadata": {},
   "outputs": [],
   "source": [
    "# creating time series for months\n",
    "\n",
    "data = wufo.get(['weekly_ufopct','year','month']).sort_values(['month','year'])\n",
    "# store into df\n",
    "df = pd.DataFrame(data.loc[data['month'] <9])\n",
    "\n",
    "# export df and set to comment after\n",
    "#df.to_csv('../Data/Datasets/nb7_weekly_ufo-jan-sept.csv')"
   ]
  },
  {
   "cell_type": "code",
   "execution_count": 8,
   "metadata": {},
   "outputs": [],
   "source": [
    "# get monthly means for corona months (jan-aug)\n",
    "\n",
    "months = [x for x in range(1,9)]\n",
    "data = dict.fromkeys(months)"
   ]
  },
  {
   "cell_type": "code",
   "execution_count": 9,
   "metadata": {},
   "outputs": [],
   "source": [
    "# function for mean data\n",
    "\n",
    "def monthlymeans(m,df):\n",
    "    data[m] = df.loc[df['month']==m].get('weekly_ufopct').mean()"
   ]
  },
  {
   "cell_type": "code",
   "execution_count": 10,
   "metadata": {},
   "outputs": [],
   "source": [
    "# update data dict\n",
    "\n",
    "for m in months:\n",
    "    monthlymeans(m,df)"
   ]
  },
  {
   "cell_type": "code",
   "execution_count": 11,
   "metadata": {},
   "outputs": [
    {
     "data": {
      "text/html": [
       "<div>\n",
       "<style scoped>\n",
       "    .dataframe tbody tr th:only-of-type {\n",
       "        vertical-align: middle;\n",
       "    }\n",
       "\n",
       "    .dataframe tbody tr th {\n",
       "        vertical-align: top;\n",
       "    }\n",
       "\n",
       "    .dataframe thead th {\n",
       "        text-align: right;\n",
       "    }\n",
       "</style>\n",
       "<table border=\"1\" class=\"dataframe\">\n",
       "  <thead>\n",
       "    <tr style=\"text-align: right;\">\n",
       "      <th></th>\n",
       "      <th>Monthly_Mean_Ufo</th>\n",
       "    </tr>\n",
       "    <tr>\n",
       "      <th>Month</th>\n",
       "      <th></th>\n",
       "    </tr>\n",
       "  </thead>\n",
       "  <tbody>\n",
       "    <tr>\n",
       "      <th>1</th>\n",
       "      <td>17.266776</td>\n",
       "    </tr>\n",
       "  </tbody>\n",
       "</table>\n",
       "</div>"
      ],
      "text/plain": [
       "       Monthly_Mean_Ufo\n",
       "Month                  \n",
       "1             17.266776"
      ]
     },
     "execution_count": 11,
     "metadata": {},
     "output_type": "execute_result"
    }
   ],
   "source": [
    "# storing vals for monthly means\n",
    "\n",
    "monthvals = [x for x in data.keys()]\n",
    "meanvals = [x for x in data.values()]\n",
    "data = {'Month': monthvals,'Monthly_Mean_Ufo':meanvals}\n",
    "# df with mean vals\n",
    "df = pd.DataFrame(data)\n",
    "# datetime index\n",
    "df.index=df['Month']\n",
    "df = df.drop(columns=['Month'])\n",
    "#confirm\n",
    "df.head(1)"
   ]
  },
  {
   "cell_type": "code",
   "execution_count": 12,
   "metadata": {},
   "outputs": [
    {
     "data": {
      "image/png": "[encoded data removed]",
      "text/plain": [
       "<Figure size 1080x504 with 1 Axes>"
      ]
     },
     "metadata": {},
     "output_type": "display_data"
    }
   ],
   "source": [
    "# plot monthly means\n",
    "\n",
    "plot1 = df.plot(figsize=(15,7))\n"
   ]
  },
  {
   "cell_type": "code",
   "execution_count": 13,
   "metadata": {},
   "outputs": [],
   "source": [
    "########################## ########################## ########################## ##########################\n",
    "########################## ########################## ########################## ##########################\n",
    "########################## ########################## ########################## ##########################\n",
    "#\n",
    "# creating time series plot for monthly means before corona compared to real measurements during corona\n",
    "#\n",
    "#                corona time defined as = 2019 Week 35 (2019/09/02) - 2020 Week 35 (2020/08/30)\n",
    "#"
   ]
  },
  {
   "cell_type": "code",
   "execution_count": 14,
   "metadata": {},
   "outputs": [],
   "source": [
    "########################## ########################## ##########################"
   ]
  },
  {
   "cell_type": "code",
   "execution_count": 15,
   "metadata": {},
   "outputs": [],
   "source": [
    "# df with only months 1-9\n",
    "\n",
    "df = pd.DataFrame(wufo.get(['date','weekly_ufopct','month']))\n",
    "df['WeekDate'] = df['date'].astype(str)"
   ]
  },
  {
   "cell_type": "code",
   "execution_count": 16,
   "metadata": {},
   "outputs": [],
   "source": [
    "########################## ########################## ##########################"
   ]
  },
  {
   "cell_type": "code",
   "execution_count": 17,
   "metadata": {},
   "outputs": [],
   "source": [
    "# m(ean) b(efore) = df before for mean vals before corona\n",
    "\n",
    "mb = pd.DataFrame(df.loc[df['WeekDate']<'2019-09-02'])\n",
    "\n",
    "# get monthly means before corona for all months (jan-aug)\n",
    "months = [x for x in range(1,9)]\n",
    "mbdata = dict.fromkeys(months)\n",
    "\n",
    "# storages for months and means -mb-\n",
    "monthvals = [x for x in mbdata.keys()]\n",
    "meanvals = [x for x in mbdata.values()]"
   ]
  },
  {
   "cell_type": "code",
   "execution_count": 18,
   "metadata": {},
   "outputs": [
    {
     "data": {
      "text/html": [
       "<div>\n",
       "<style scoped>\n",
       "    .dataframe tbody tr th:only-of-type {\n",
       "        vertical-align: middle;\n",
       "    }\n",
       "\n",
       "    .dataframe tbody tr th {\n",
       "        vertical-align: top;\n",
       "    }\n",
       "\n",
       "    .dataframe thead th {\n",
       "        text-align: right;\n",
       "    }\n",
       "</style>\n",
       "<table border=\"1\" class=\"dataframe\">\n",
       "  <thead>\n",
       "    <tr style=\"text-align: right;\">\n",
       "      <th></th>\n",
       "      <th>Month</th>\n",
       "      <th>Mean UFOs %</th>\n",
       "    </tr>\n",
       "  </thead>\n",
       "  <tbody>\n",
       "    <tr>\n",
       "      <th>0</th>\n",
       "      <td>1</td>\n",
       "      <td>17.206139</td>\n",
       "    </tr>\n",
       "    <tr>\n",
       "      <th>1</th>\n",
       "      <td>2</td>\n",
       "      <td>13.924772</td>\n",
       "    </tr>\n",
       "    <tr>\n",
       "      <th>2</th>\n",
       "      <td>3</td>\n",
       "      <td>14.320522</td>\n",
       "    </tr>\n",
       "    <tr>\n",
       "      <th>3</th>\n",
       "      <td>4</td>\n",
       "      <td>15.814440</td>\n",
       "    </tr>\n",
       "    <tr>\n",
       "      <th>4</th>\n",
       "      <td>5</td>\n",
       "      <td>15.716777</td>\n",
       "    </tr>\n",
       "  </tbody>\n",
       "</table>\n",
       "</div>"
      ],
      "text/plain": [
       "   Month  Mean UFOs %\n",
       "0      1    17.206139\n",
       "1      2    13.924772\n",
       "2      3    14.320522\n",
       "3      4    15.814440\n",
       "4      5    15.716777"
      ]
     },
     "execution_count": 18,
     "metadata": {},
     "output_type": "execute_result"
    }
   ],
   "source": [
    "# get the mean vals\n",
    "\n",
    "for m in months:\n",
    "    monthmean = mb.loc[mb['month']==m].get('weekly_ufopct').mean()\n",
    "    mbdata[m] = monthmean\n",
    "\n",
    "# list to store means\n",
    "means = [mean for mean in mbdata.values()]\n",
    "\n",
    "# dict to store data\n",
    "mbdata = {'Month':months,'Mean UFOs %':means}\n",
    "\n",
    "# final df for means before corona\n",
    "mbdf = pd.DataFrame(mbdata)\n",
    "\n",
    "# review\n",
    "mbdf.head()"
   ]
  },
  {
   "cell_type": "code",
   "execution_count": 19,
   "metadata": {},
   "outputs": [],
   "source": [
    "########################## ########################## ##########################"
   ]
  },
  {
   "cell_type": "code",
   "execution_count": 20,
   "metadata": {},
   "outputs": [],
   "source": [
    "# r(eal)c(orona) df corona for real vals in corona timeframe\n",
    "\n",
    "rc = pd.DataFrame(df.loc[df['WeekDate']>='2019-09-02'])\n",
    "\n",
    "# get monthly sums for corona time\n",
    "months = [x for x in range(1,9)]\n",
    "\n",
    "rcdata = dict.fromkeys(months)\n",
    "\n",
    "# storages for monthly sums -rc-\n",
    "monthvals = [x for x in data.keys()]\n",
    "realvals = [x for x in data.values()]"
   ]
  },
  {
   "cell_type": "code",
   "execution_count": 21,
   "metadata": {},
   "outputs": [],
   "source": [
    "# get the sum vals\n",
    "for m in months:\n",
    "    monsum = rc.loc[rc['month']==m].get('weekly_ufopct').sum()\n",
    "    monlen = len(rc.loc[rc['month']==m].get('weekly_ufopct'))\n",
    "    monmean= monsum/monlen\n",
    "    rcdata[m] = monmean"
   ]
  },
  {
   "cell_type": "code",
   "execution_count": 22,
   "metadata": {},
   "outputs": [
    {
     "data": {
      "text/html": [
       "<div>\n",
       "<style scoped>\n",
       "    .dataframe tbody tr th:only-of-type {\n",
       "        vertical-align: middle;\n",
       "    }\n",
       "\n",
       "    .dataframe tbody tr th {\n",
       "        vertical-align: top;\n",
       "    }\n",
       "\n",
       "    .dataframe thead th {\n",
       "        text-align: right;\n",
       "    }\n",
       "</style>\n",
       "<table border=\"1\" class=\"dataframe\">\n",
       "  <thead>\n",
       "    <tr style=\"text-align: right;\">\n",
       "      <th></th>\n",
       "      <th>Month</th>\n",
       "      <th>Real Percentage UFOs</th>\n",
       "    </tr>\n",
       "  </thead>\n",
       "  <tbody>\n",
       "    <tr>\n",
       "      <th>0</th>\n",
       "      <td>1</td>\n",
       "      <td>18.191489</td>\n",
       "    </tr>\n",
       "    <tr>\n",
       "      <th>1</th>\n",
       "      <td>2</td>\n",
       "      <td>18.882979</td>\n",
       "    </tr>\n",
       "    <tr>\n",
       "      <th>2</th>\n",
       "      <td>3</td>\n",
       "      <td>28.851064</td>\n",
       "    </tr>\n",
       "    <tr>\n",
       "      <th>3</th>\n",
       "      <td>4</td>\n",
       "      <td>48.031915</td>\n",
       "    </tr>\n",
       "    <tr>\n",
       "      <th>4</th>\n",
       "      <td>5</td>\n",
       "      <td>31.319149</td>\n",
       "    </tr>\n",
       "  </tbody>\n",
       "</table>\n",
       "</div>"
      ],
      "text/plain": [
       "   Month  Real Percentage UFOs\n",
       "0      1             18.191489\n",
       "1      2             18.882979\n",
       "2      3             28.851064\n",
       "3      4             48.031915\n",
       "4      5             31.319149"
      ]
     },
     "execution_count": 22,
     "metadata": {},
     "output_type": "execute_result"
    }
   ],
   "source": [
    "# list to store means\n",
    "monmeans = [s for s in rcdata.values()]\n",
    "\n",
    "# dict to store data\n",
    "rcdata = {'Month':months,'Real Percentage UFOs':monmeans}\n",
    "\n",
    "# final df for means before corona\n",
    "rcdf = pd.DataFrame(rcdata)\n",
    "\n",
    "# confirm\n",
    "rcdf.head()"
   ]
  },
  {
   "cell_type": "code",
   "execution_count": 23,
   "metadata": {},
   "outputs": [],
   "source": [
    "########################## ########################## ##########################\n",
    "# plot monthly means + absolute vals UFOs all time\n"
   ]
  },
  {
   "cell_type": "code",
   "execution_count": 24,
   "metadata": {},
   "outputs": [
    {
     "data": {
      "text/html": [
       "<div>\n",
       "<style scoped>\n",
       "    .dataframe tbody tr th:only-of-type {\n",
       "        vertical-align: middle;\n",
       "    }\n",
       "\n",
       "    .dataframe tbody tr th {\n",
       "        vertical-align: top;\n",
       "    }\n",
       "\n",
       "    .dataframe thead th {\n",
       "        text-align: right;\n",
       "    }\n",
       "</style>\n",
       "<table border=\"1\" class=\"dataframe\">\n",
       "  <thead>\n",
       "    <tr style=\"text-align: right;\">\n",
       "      <th></th>\n",
       "      <th>Month</th>\n",
       "      <th>Mean UFOs %</th>\n",
       "      <th>timeframe</th>\n",
       "    </tr>\n",
       "  </thead>\n",
       "  <tbody>\n",
       "    <tr>\n",
       "      <th>0</th>\n",
       "      <td>1</td>\n",
       "      <td>17.206139</td>\n",
       "      <td>UFOs before corona (monthly mean)</td>\n",
       "    </tr>\n",
       "    <tr>\n",
       "      <th>1</th>\n",
       "      <td>2</td>\n",
       "      <td>13.924772</td>\n",
       "      <td>UFOs before corona (monthly mean)</td>\n",
       "    </tr>\n",
       "    <tr>\n",
       "      <th>2</th>\n",
       "      <td>3</td>\n",
       "      <td>14.320522</td>\n",
       "      <td>UFOs before corona (monthly mean)</td>\n",
       "    </tr>\n",
       "    <tr>\n",
       "      <th>3</th>\n",
       "      <td>4</td>\n",
       "      <td>15.814440</td>\n",
       "      <td>UFOs before corona (monthly mean)</td>\n",
       "    </tr>\n",
       "    <tr>\n",
       "      <th>4</th>\n",
       "      <td>5</td>\n",
       "      <td>15.716777</td>\n",
       "      <td>UFOs before corona (monthly mean)</td>\n",
       "    </tr>\n",
       "  </tbody>\n",
       "</table>\n",
       "</div>"
      ],
      "text/plain": [
       "   Month  Mean UFOs %                          timeframe\n",
       "0      1    17.206139  UFOs before corona (monthly mean)\n",
       "1      2    13.924772  UFOs before corona (monthly mean)\n",
       "2      3    14.320522  UFOs before corona (monthly mean)\n",
       "3      4    15.814440  UFOs before corona (monthly mean)\n",
       "4      5    15.716777  UFOs before corona (monthly mean)"
      ]
     },
     "execution_count": 24,
     "metadata": {},
     "output_type": "execute_result"
    }
   ],
   "source": [
    "# before corona: m(onthly)mean b(efore)corona df\n",
    "\n",
    "mbdf['timeframe']= 'UFOs before corona (monthly mean)'\n",
    "\n",
    "bv = mbdf['Mean UFOs %'].to_list()\n",
    "tb = mbdf['timeframe'].to_list()\n",
    "\n",
    "mbdf.head()"
   ]
  },
  {
   "cell_type": "code",
   "execution_count": 25,
   "metadata": {},
   "outputs": [
    {
     "data": {
      "text/html": [
       "<div>\n",
       "<style scoped>\n",
       "    .dataframe tbody tr th:only-of-type {\n",
       "        vertical-align: middle;\n",
       "    }\n",
       "\n",
       "    .dataframe tbody tr th {\n",
       "        vertical-align: top;\n",
       "    }\n",
       "\n",
       "    .dataframe thead th {\n",
       "        text-align: right;\n",
       "    }\n",
       "</style>\n",
       "<table border=\"1\" class=\"dataframe\">\n",
       "  <thead>\n",
       "    <tr style=\"text-align: right;\">\n",
       "      <th></th>\n",
       "      <th>Month</th>\n",
       "      <th>Real Percentage UFOs</th>\n",
       "      <th>timeframe</th>\n",
       "    </tr>\n",
       "  </thead>\n",
       "  <tbody>\n",
       "    <tr>\n",
       "      <th>0</th>\n",
       "      <td>1</td>\n",
       "      <td>18.191489</td>\n",
       "      <td>UFOs during corona (monthly mean)</td>\n",
       "    </tr>\n",
       "    <tr>\n",
       "      <th>1</th>\n",
       "      <td>2</td>\n",
       "      <td>18.882979</td>\n",
       "      <td>UFOs during corona (monthly mean)</td>\n",
       "    </tr>\n",
       "    <tr>\n",
       "      <th>2</th>\n",
       "      <td>3</td>\n",
       "      <td>28.851064</td>\n",
       "      <td>UFOs during corona (monthly mean)</td>\n",
       "    </tr>\n",
       "    <tr>\n",
       "      <th>3</th>\n",
       "      <td>4</td>\n",
       "      <td>48.031915</td>\n",
       "      <td>UFOs during corona (monthly mean)</td>\n",
       "    </tr>\n",
       "    <tr>\n",
       "      <th>4</th>\n",
       "      <td>5</td>\n",
       "      <td>31.319149</td>\n",
       "      <td>UFOs during corona (monthly mean)</td>\n",
       "    </tr>\n",
       "  </tbody>\n",
       "</table>\n",
       "</div>"
      ],
      "text/plain": [
       "   Month  Real Percentage UFOs                          timeframe\n",
       "0      1             18.191489  UFOs during corona (monthly mean)\n",
       "1      2             18.882979  UFOs during corona (monthly mean)\n",
       "2      3             28.851064  UFOs during corona (monthly mean)\n",
       "3      4             48.031915  UFOs during corona (monthly mean)\n",
       "4      5             31.319149  UFOs during corona (monthly mean)"
      ]
     },
     "execution_count": 25,
     "metadata": {},
     "output_type": "execute_result"
    }
   ],
   "source": [
    "# during corona: r(eal)-measured-monthly-means c(orona)time df\n",
    "\n",
    "rcdf['timeframe'] = 'UFOs during corona (monthly mean)'\n",
    "\n",
    "cv = rcdf['Real Percentage UFOs'].to_list()\n",
    "tc = rcdf['timeframe'].to_list()\n",
    "\n",
    "rcdf.head()"
   ]
  },
  {
   "cell_type": "code",
   "execution_count": 26,
   "metadata": {},
   "outputs": [],
   "source": [
    "# combine stored vals for both timeframes\n",
    "\n",
    "t = tb+tc \n",
    "v = bv + cv"
   ]
  },
  {
   "cell_type": "code",
   "execution_count": 27,
   "metadata": {},
   "outputs": [
    {
     "data": {
      "text/html": [
       "<div>\n",
       "<style scoped>\n",
       "    .dataframe tbody tr th:only-of-type {\n",
       "        vertical-align: middle;\n",
       "    }\n",
       "\n",
       "    .dataframe tbody tr th {\n",
       "        vertical-align: top;\n",
       "    }\n",
       "\n",
       "    .dataframe thead th {\n",
       "        text-align: right;\n",
       "    }\n",
       "</style>\n",
       "<table border=\"1\" class=\"dataframe\">\n",
       "  <thead>\n",
       "    <tr style=\"text-align: right;\">\n",
       "      <th></th>\n",
       "      <th>Timeframe:</th>\n",
       "      <th>UFOs</th>\n",
       "      <th>Month</th>\n",
       "    </tr>\n",
       "  </thead>\n",
       "  <tbody>\n",
       "    <tr>\n",
       "      <th>0</th>\n",
       "      <td>UFOs before corona (monthly mean)</td>\n",
       "      <td>17.206139</td>\n",
       "      <td>1</td>\n",
       "    </tr>\n",
       "    <tr>\n",
       "      <th>1</th>\n",
       "      <td>UFOs before corona (monthly mean)</td>\n",
       "      <td>13.924772</td>\n",
       "      <td>2</td>\n",
       "    </tr>\n",
       "    <tr>\n",
       "      <th>2</th>\n",
       "      <td>UFOs before corona (monthly mean)</td>\n",
       "      <td>14.320522</td>\n",
       "      <td>3</td>\n",
       "    </tr>\n",
       "    <tr>\n",
       "      <th>3</th>\n",
       "      <td>UFOs before corona (monthly mean)</td>\n",
       "      <td>15.814440</td>\n",
       "      <td>4</td>\n",
       "    </tr>\n",
       "    <tr>\n",
       "      <th>4</th>\n",
       "      <td>UFOs before corona (monthly mean)</td>\n",
       "      <td>15.716777</td>\n",
       "      <td>5</td>\n",
       "    </tr>\n",
       "  </tbody>\n",
       "</table>\n",
       "</div>"
      ],
      "text/plain": [
       "                          Timeframe:       UFOs  Month\n",
       "0  UFOs before corona (monthly mean)  17.206139      1\n",
       "1  UFOs before corona (monthly mean)  13.924772      2\n",
       "2  UFOs before corona (monthly mean)  14.320522      3\n",
       "3  UFOs before corona (monthly mean)  15.814440      4\n",
       "4  UFOs before corona (monthly mean)  15.716777      5"
      ]
     },
     "execution_count": 27,
     "metadata": {},
     "output_type": "execute_result"
    }
   ],
   "source": [
    "# df2 storing all vals: timeframe id, UFO monthly mean vals, month id\n",
    "\n",
    "data2 = {'Timeframe:':t, 'UFOs':v}\n",
    "df2 = pd.DataFrame(data2)\n",
    "df2['Month']=[x for x in range(1,9)]+[x for x in range(1,9)]\n",
    "df2.head()"
   ]
  },
  {
   "cell_type": "code",
   "execution_count": 62,
   "metadata": {},
   "outputs": [
    {
     "data": {
      "image/png": "[encoded data removed]",
      "text/plain": [
       "<Figure size 938.85x360 with 1 Axes>"
      ]
     },
     "metadata": {},
     "output_type": "display_data"
    }
   ],
   "source": [
    "# plot7_2 corona menas + before-corona means\n",
    "\n",
    "sns.set_context(font_scale=1.5, rc={\"lines.linewidth\": 3.5})\n",
    "  \n",
    "sns.relplot(x=\"Month\", y=\"UFOs\", hue=\"Timeframe:\", kind=\"line\", data=df2, aspect=12/6,palette='GnBu');\n",
    "\n",
    "sns.despine()\n"
   ]
  },
  {
   "cell_type": "code",
   "execution_count": 60,
   "metadata": {},
   "outputs": [],
   "source": [
    "# export and set to comment after\n",
    "\n",
    "#df2.to_csv('../Data/Datasets/monmeans_corona.csv')\n",
    "#rcdf.to_csv('../Data/Datasets/nb7_corona.csv')\n",
    "#mbdf.to_csv('../Data/Datasets/nb7_before.csv')"
   ]
  }
 ],
 "metadata": {
  "kernelspec": {
   "display_name": "Python 3",
   "language": "python",
   "name": "python3"
  },
  "language_info": {
   "codemirror_mode": {
    "name": "ipython",
    "version": 3
   },
   "file_extension": ".py",
   "mimetype": "text/x-python",
   "name": "python",
   "nbconvert_exporter": "python",
   "pygments_lexer": "ipython3",
   "version": "3.8.5"
  }
 },
 "nbformat": 4,
 "nbformat_minor": 4
}
