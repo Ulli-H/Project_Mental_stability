{
 "cells": [
  {
   "cell_type": "code",
   "execution_count": 2,
   "metadata": {},
   "outputs": [],
   "source": [
    "%matplotlib inline\n",
    "import pandas as pd\n",
    "import numpy as np\n",
    "from numpy import arange\n",
    "import math\n",
    "\n",
    "import seaborn as sns\n",
    "sns.set_style(\"white\")\n",
    "\n",
    "import scipy as sp\n",
    "from scipy import linalg, optimize\n",
    "\n",
    "import statsmodels.api as sm\n",
    "from statsmodels.sandbox.regression.predstd import wls_prediction_std\n",
    "\n",
    "import collections\n",
    "from collections import Counter\n",
    "\n",
    "import matplotlib as mpl\n",
    "import matplotlib.pyplot as plt\n",
    "import matplotlib.path as mpath\n",
    "from matplotlib.dates import DateFormatter\n",
    "\n",
    "import calendar\n",
    "import datetime as dt\n",
    "fromtimestamp = dt.datetime.fromtimestamp\n"
   ]
  },
  {
   "cell_type": "code",
   "execution_count": 3,
   "metadata": {},
   "outputs": [
    {
     "data": {
      "text/html": [
       "<div>\n",
       "<style scoped>\n",
       "    .dataframe tbody tr th:only-of-type {\n",
       "        vertical-align: middle;\n",
       "    }\n",
       "\n",
       "    .dataframe tbody tr th {\n",
       "        vertical-align: top;\n",
       "    }\n",
       "\n",
       "    .dataframe thead th {\n",
       "        text-align: right;\n",
       "    }\n",
       "</style>\n",
       "<table border=\"1\" class=\"dataframe\">\n",
       "  <thead>\n",
       "    <tr style=\"text-align: right;\">\n",
       "      <th></th>\n",
       "      <th>ufo_id</th>\n",
       "      <th>week_id</th>\n",
       "      <th>date_of_sight</th>\n",
       "      <th>year</th>\n",
       "      <th>month</th>\n",
       "      <th>week_of_year</th>\n",
       "      <th>state</th>\n",
       "      <th>city</th>\n",
       "      <th>sight_summary</th>\n",
       "      <th>ufo_shape</th>\n",
       "    </tr>\n",
       "  </thead>\n",
       "  <tbody>\n",
       "    <tr>\n",
       "      <th>2</th>\n",
       "      <td>1</td>\n",
       "      <td>2006-1</td>\n",
       "      <td>2006-01-02</td>\n",
       "      <td>2006</td>\n",
       "      <td>1</td>\n",
       "      <td>1</td>\n",
       "      <td>MI</td>\n",
       "      <td>Ann Arbor</td>\n",
       "      <td>Probable HOAX: 5 ufos, silent black objects, m...</td>\n",
       "      <td>Changing</td>\n",
       "    </tr>\n",
       "    <tr>\n",
       "      <th>3</th>\n",
       "      <td>1</td>\n",
       "      <td>2006-1</td>\n",
       "      <td>2006-01-02</td>\n",
       "      <td>2006</td>\n",
       "      <td>1</td>\n",
       "      <td>1</td>\n",
       "      <td>VA</td>\n",
       "      <td>Fredericksburg</td>\n",
       "      <td>clear sky looked like a star 10:00 am in the m...</td>\n",
       "      <td>Light</td>\n",
       "    </tr>\n",
       "    <tr>\n",
       "      <th>4</th>\n",
       "      <td>1</td>\n",
       "      <td>2006-1</td>\n",
       "      <td>2006-01-04</td>\n",
       "      <td>2006</td>\n",
       "      <td>1</td>\n",
       "      <td>1</td>\n",
       "      <td>PA</td>\n",
       "      <td>Scotland</td>\n",
       "      <td>Small, white, light in the northeast sky...dis...</td>\n",
       "      <td>Light</td>\n",
       "    </tr>\n",
       "    <tr>\n",
       "      <th>53</th>\n",
       "      <td>1</td>\n",
       "      <td>2006-10</td>\n",
       "      <td>2006-03-06</td>\n",
       "      <td>2006</td>\n",
       "      <td>3</td>\n",
       "      <td>10</td>\n",
       "      <td>CA</td>\n",
       "      <td>North Hills</td>\n",
       "      <td>((HOAX)) As I sat in my car taking my break, I...</td>\n",
       "      <td>Egg</td>\n",
       "    </tr>\n",
       "    <tr>\n",
       "      <th>54</th>\n",
       "      <td>1</td>\n",
       "      <td>2006-10</td>\n",
       "      <td>2006-03-07</td>\n",
       "      <td>2006</td>\n",
       "      <td>3</td>\n",
       "      <td>10</td>\n",
       "      <td>CA</td>\n",
       "      <td>Desert Hot Springs</td>\n",
       "      <td>Twin OrangeTriangles flying at extrememly high...</td>\n",
       "      <td>Chevron</td>\n",
       "    </tr>\n",
       "  </tbody>\n",
       "</table>\n",
       "</div>"
      ],
      "text/plain": [
       "    ufo_id  week_id date_of_sight  year  month  week_of_year state  \\\n",
       "2        1   2006-1    2006-01-02  2006      1             1    MI   \n",
       "3        1   2006-1    2006-01-02  2006      1             1    VA   \n",
       "4        1   2006-1    2006-01-04  2006      1             1    PA   \n",
       "53       1  2006-10    2006-03-06  2006      3            10    CA   \n",
       "54       1  2006-10    2006-03-07  2006      3            10    CA   \n",
       "\n",
       "                  city                                      sight_summary  \\\n",
       "2            Ann Arbor  Probable HOAX: 5 ufos, silent black objects, m...   \n",
       "3       Fredericksburg  clear sky looked like a star 10:00 am in the m...   \n",
       "4             Scotland  Small, white, light in the northeast sky...dis...   \n",
       "53         North Hills  ((HOAX)) As I sat in my car taking my break, I...   \n",
       "54  Desert Hot Springs  Twin OrangeTriangles flying at extrememly high...   \n",
       "\n",
       "   ufo_shape  \n",
       "2   Changing  \n",
       "3      Light  \n",
       "4      Light  \n",
       "53       Egg  \n",
       "54   Chevron  "
      ]
     },
     "execution_count": 3,
     "metadata": {},
     "output_type": "execute_result"
    }
   ],
   "source": [
    "# import ufo data, assign ufo_id and sort\n",
    "ufo = pd.read_csv('../data/ufo_clean.csv', index_col = 0)\n",
    "ufo = ufo.rename(columns={'index':'ufo_id','year_week':'week_id'})\n",
    "ufo['ufo_id'] = 1\n",
    "ufo = ufo.sort_values('week_id')\n",
    "# confirm\n",
    "ufo.head()"
   ]
  },
  {
   "cell_type": "code",
   "execution_count": 4,
   "metadata": {},
   "outputs": [
    {
     "data": {
      "text/html": [
       "<div>\n",
       "<style scoped>\n",
       "    .dataframe tbody tr th:only-of-type {\n",
       "        vertical-align: middle;\n",
       "    }\n",
       "\n",
       "    .dataframe tbody tr th {\n",
       "        vertical-align: top;\n",
       "    }\n",
       "\n",
       "    .dataframe thead th {\n",
       "        text-align: right;\n",
       "    }\n",
       "</style>\n",
       "<table border=\"1\" class=\"dataframe\">\n",
       "  <thead>\n",
       "    <tr style=\"text-align: right;\">\n",
       "      <th></th>\n",
       "      <th>year_id</th>\n",
       "      <th>yearly_ufocount</th>\n",
       "    </tr>\n",
       "  </thead>\n",
       "  <tbody>\n",
       "    <tr>\n",
       "      <th>0</th>\n",
       "      <td>2014</td>\n",
       "      <td>7431</td>\n",
       "    </tr>\n",
       "    <tr>\n",
       "      <th>1</th>\n",
       "      <td>2012</td>\n",
       "      <td>6867</td>\n",
       "    </tr>\n",
       "    <tr>\n",
       "      <th>2</th>\n",
       "      <td>2013</td>\n",
       "      <td>6602</td>\n",
       "    </tr>\n",
       "    <tr>\n",
       "      <th>3</th>\n",
       "      <td>2015</td>\n",
       "      <td>5880</td>\n",
       "    </tr>\n",
       "    <tr>\n",
       "      <th>4</th>\n",
       "      <td>2016</td>\n",
       "      <td>4848</td>\n",
       "    </tr>\n",
       "  </tbody>\n",
       "</table>\n",
       "</div>"
      ],
      "text/plain": [
       "   year_id  yearly_ufocount\n",
       "0     2014             7431\n",
       "1     2012             6867\n",
       "2     2013             6602\n",
       "3     2015             5880\n",
       "4     2016             4848"
      ]
     },
     "execution_count": 4,
     "metadata": {},
     "output_type": "execute_result"
    }
   ],
   "source": [
    "# get ufo counts per year and save to \"ufosperyear\" df\n",
    "ufosperyear = pd.DataFrame(ufo['year'].value_counts()).reset_index().rename(columns={'index':'year_id','year':'yearly_ufocount'})\n",
    "# review\n",
    "ufosperyear.head()"
   ]
  },
  {
   "cell_type": "code",
   "execution_count": 37,
   "metadata": {},
   "outputs": [
    {
     "data": {
      "text/plain": [
       "Index(['year_id', 'yearly_ufocount', 'yearly_pct_entrtm'], dtype='object')"
      ]
     },
     "execution_count": 37,
     "metadata": {},
     "output_type": "execute_result"
    }
   ],
   "source": [
    "# get max ufo per week count and save it to ufomax\n",
    "ufoyearmax = ufosperyear.yearly_ufocount.max()\n",
    "\n",
    "# define 1 percent value: (ufoyearmax = 100 pct)\n",
    "onepc_ufoyear = ufoyearmax/100\n",
    "\n",
    "# assign col with percentage vals\n",
    "ufosperyear['yearly_pct_entrtm'] = ufosperyear['yearly_ufocount']/onepc_ufoyear\n",
    "\n",
    "# review\n",
    "ufosperyear.columns\n"
   ]
  },
  {
   "cell_type": "code",
   "execution_count": 38,
   "metadata": {},
   "outputs": [],
   "source": [
    "    # export and set to comment after\n",
    "#ufosperyear.to_csv('../Data/Datasets/yearly_ufopct_entrtm.csv')"
   ]
  },
  {
   "cell_type": "code",
   "execution_count": 44,
   "metadata": {},
   "outputs": [
    {
     "data": {
      "text/plain": [
       "array([[<AxesSubplot:title={'center':'yearly_ufocount'}>]], dtype=object)"
      ]
     },
     "execution_count": 44,
     "metadata": {},
     "output_type": "execute_result"
    },
    {
     "data": {
      "image/png": "[encoded data removed]",
      "text/plain": [
       "<Figure size 432x288 with 1 Axes>"
      ]
     },
     "metadata": {},
     "output_type": "display_data"
    }
   ],
   "source": [
    "# plot yearly number of ufosights\n",
    "cols = ['Year','Count of UFOs']\n",
    "df = ufosperyear.copy()\n",
    "df = df.sort_values('year_id')\n",
    "df = df.set_index('year_id').drop(columns='yearly_pct_entrtm')\n",
    "df.hist()"
   ]
  },
  {
   "cell_type": "code",
   "execution_count": null,
   "metadata": {},
   "outputs": [],
   "source": []
  }
 ],
 "metadata": {
  "kernelspec": {
   "display_name": "Python 3",
   "language": "python",
   "name": "python3"
  },
  "language_info": {
   "codemirror_mode": {
    "name": "ipython",
    "version": 3
   },
   "file_extension": ".py",
   "mimetype": "text/x-python",
   "name": "python",
   "nbconvert_exporter": "python",
   "pygments_lexer": "ipython3",
   "version": "3.8.5"
  }
 },
 "nbformat": 4,
 "nbformat_minor": 4
}
