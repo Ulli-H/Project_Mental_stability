{
 "cells": [
  {
   "cell_type": "code",
   "execution_count": 2,
   "metadata": {},
   "outputs": [],
   "source": [
    "import pandas as pd\n",
    "from pytrends.request import TrendReq\n",
    "\n",
    "import datetime as dt\n",
    "fromtimestamp = dt.datetime.fromtimestamp\n",
    "\n",
    "pytrends = TrendReq()"
   ]
  },
  {
   "cell_type": "code",
   "execution_count": 3,
   "metadata": {},
   "outputs": [],
   "source": [
    "#testing API\n",
    "kw_list = ['UFO']\n",
    "pytrends.build_payload(kw_list , timeframe ='2016-01-01 2020-09-13'\n",
    "                       , geo = 'US' )"
   ]
  },
  {
   "cell_type": "code",
   "execution_count": 4,
   "metadata": {},
   "outputs": [
    {
     "data": {
      "text/html": [
       "<div>\n",
       "<style scoped>\n",
       "    .dataframe tbody tr th:only-of-type {\n",
       "        vertical-align: middle;\n",
       "    }\n",
       "\n",
       "    .dataframe tbody tr th {\n",
       "        vertical-align: top;\n",
       "    }\n",
       "\n",
       "    .dataframe thead th {\n",
       "        text-align: right;\n",
       "    }\n",
       "</style>\n",
       "<table border=\"1\" class=\"dataframe\">\n",
       "  <thead>\n",
       "    <tr style=\"text-align: right;\">\n",
       "      <th></th>\n",
       "      <th>UFO</th>\n",
       "      <th>isPartial</th>\n",
       "    </tr>\n",
       "    <tr>\n",
       "      <th>date</th>\n",
       "      <th></th>\n",
       "      <th></th>\n",
       "    </tr>\n",
       "  </thead>\n",
       "  <tbody>\n",
       "    <tr>\n",
       "      <th>2016-01-03</th>\n",
       "      <td>9</td>\n",
       "      <td>False</td>\n",
       "    </tr>\n",
       "    <tr>\n",
       "      <th>2016-01-10</th>\n",
       "      <td>8</td>\n",
       "      <td>False</td>\n",
       "    </tr>\n",
       "    <tr>\n",
       "      <th>2016-01-17</th>\n",
       "      <td>8</td>\n",
       "      <td>False</td>\n",
       "    </tr>\n",
       "    <tr>\n",
       "      <th>2016-01-24</th>\n",
       "      <td>12</td>\n",
       "      <td>False</td>\n",
       "    </tr>\n",
       "    <tr>\n",
       "      <th>2016-01-31</th>\n",
       "      <td>10</td>\n",
       "      <td>False</td>\n",
       "    </tr>\n",
       "    <tr>\n",
       "      <th>...</th>\n",
       "      <td>...</td>\n",
       "      <td>...</td>\n",
       "    </tr>\n",
       "    <tr>\n",
       "      <th>2020-08-09</th>\n",
       "      <td>13</td>\n",
       "      <td>False</td>\n",
       "    </tr>\n",
       "    <tr>\n",
       "      <th>2020-08-16</th>\n",
       "      <td>11</td>\n",
       "      <td>False</td>\n",
       "    </tr>\n",
       "    <tr>\n",
       "      <th>2020-08-23</th>\n",
       "      <td>8</td>\n",
       "      <td>False</td>\n",
       "    </tr>\n",
       "    <tr>\n",
       "      <th>2020-08-30</th>\n",
       "      <td>8</td>\n",
       "      <td>False</td>\n",
       "    </tr>\n",
       "    <tr>\n",
       "      <th>2020-09-06</th>\n",
       "      <td>8</td>\n",
       "      <td>True</td>\n",
       "    </tr>\n",
       "  </tbody>\n",
       "</table>\n",
       "<p>245 rows × 2 columns</p>\n",
       "</div>"
      ],
      "text/plain": [
       "            UFO  isPartial\n",
       "date                      \n",
       "2016-01-03    9      False\n",
       "2016-01-10    8      False\n",
       "2016-01-17    8      False\n",
       "2016-01-24   12      False\n",
       "2016-01-31   10      False\n",
       "...         ...        ...\n",
       "2020-08-09   13      False\n",
       "2020-08-16   11      False\n",
       "2020-08-23    8      False\n",
       "2020-08-30    8      False\n",
       "2020-09-06    8       True\n",
       "\n",
       "[245 rows x 2 columns]"
      ]
     },
     "execution_count": 4,
     "metadata": {},
     "output_type": "execute_result"
    }
   ],
   "source": [
    "df1 = pytrends.interest_over_time()\n",
    "df1"
   ]
  },
  {
   "cell_type": "code",
   "execution_count": 5,
   "metadata": {},
   "outputs": [],
   "source": [
    "# requesting data per day \n",
    "pytrends.build_payload(kw_list , timeframe ='2006-01-01 2020-09-13'\n",
    "                       , geo = 'US' )\n",
    "df2 = pytrends.interest_over_time()\n",
    "df2 = df2.reset_index() "
   ]
  },
  {
   "cell_type": "code",
   "execution_count": 6,
   "metadata": {},
   "outputs": [],
   "source": [
    "#df2 = df2.to_csv('../data/ufo_2006_2020_googlesearch.csv' , index = False)"
   ]
  },
  {
   "cell_type": "code",
   "execution_count": 10,
   "metadata": {},
   "outputs": [],
   "source": [
    "kw_list = ['weather', 'unemployment']\n",
    "pytrends.build_payload(kw_list , timeframe ='2006-01-01 2020-09-13'\n",
    "                       , geo = 'US' )\n",
    "df3 = pytrends.interest_over_time()\n",
    "df3 = df3.reset_index() \n",
    "df3 = df3.to_csv('../data/weather_unemployment_2006_2020_googlesearch.csv', index = False)"
   ]
  },
  {
   "cell_type": "code",
   "execution_count": 11,
   "metadata": {},
   "outputs": [],
   "source": [
    "kw_list = ['financial crisis']\n",
    "pytrends.build_payload(kw_list , timeframe ='2006-01-01 2020-09-13'\n",
    "                       , geo = 'US' )\n",
    "df_fcrisis = pytrends.interest_over_time()\n",
    "df_fcrisis = df_fcrisis.reset_index() \n",
    "df_fcrisis = df_fcrisis.to_csv('../data/fcrisis_2006_2020_googlesearch.csv',\n",
    "                               index = False)"
   ]
  },
  {
   "cell_type": "code",
   "execution_count": 16,
   "metadata": {},
   "outputs": [],
   "source": [
    "kw_list = ['financial crisis']\n",
    "pytrends.build_payload(kw_list , timeframe ='2008-01-01 2008-12-31'\n",
    "                       , geo = 'US' )\n",
    "dfw_fcrisis = pytrends.interest_over_time()\n",
    "dfw_fcrisis = dfw_fcrisis.reset_index() \n",
    "dfw_fcrisis = dfw_fcrisis.to_csv('../data/fcrisis_weeks2008_googlesearch.csv',\n",
    "                               index = False)"
   ]
  },
  {
   "cell_type": "code",
   "execution_count": 17,
   "metadata": {},
   "outputs": [],
   "source": [
    "kw_list = ['arab spring']\n",
    "pytrends.build_payload(kw_list , timeframe ='2010-01-09 2011-12-31'\n",
    "                       , geo = 'US' )\n",
    "df_arabs = pytrends.interest_over_time()\n",
    "df_arabs = df_arabs.reset_index() \n",
    "df_arabs = df_arabs.to_csv('../data/arabs_2010_2011_googlesearch.csv', index = False)"
   ]
  },
  {
   "cell_type": "code",
   "execution_count": 13,
   "metadata": {},
   "outputs": [],
   "source": [
    "kw_list = ['boston marathon bombings']\n",
    "pytrends.build_payload(kw_list , timeframe ='2013-01-01 2020-09-13'\n",
    "                       , geo = 'US' )\n",
    "df_bm = pytrends.interest_over_time()\n",
    "df_bm = df_bm.reset_index() \n",
    "df_bm = df_bm.to_csv('../data/boston_marathon_2013_2020_googlesearch.csv', index = False)"
   ]
  },
  {
   "cell_type": "code",
   "execution_count": 15,
   "metadata": {},
   "outputs": [],
   "source": [
    "kw_list = ['boston marathon bombings']\n",
    "pytrends.build_payload(kw_list , timeframe ='2013-01-01 2013-12-31'\n",
    "                       , geo = 'US' )\n",
    "dfw_bm = pytrends.interest_over_time()\n",
    "dfw_bm = dfw_bm.reset_index() \n",
    "dfw_bm = dfw_bm.to_csv('../data/boston_marathon_weeks2013_googlesearch.csv', index = False)"
   ]
  },
  {
   "cell_type": "code",
   "execution_count": 14,
   "metadata": {},
   "outputs": [],
   "source": [
    "kw_list = ['ISIS']\n",
    "pytrends.build_payload(kw_list , timeframe ='2014-01-01 2020-09-13'\n",
    "                       , geo = 'US' )\n",
    "df_isis = pytrends.interest_over_time()\n",
    "df_isis = df_isis.reset_index() \n",
    "df_isis = df_isis.to_csv('../data/isis_2014_2020_googlesearch.csv', index = False)"
   ]
  },
  {
   "cell_type": "code",
   "execution_count": null,
   "metadata": {},
   "outputs": [],
   "source": [
    "\"\"\"\n",
    "kw_list = ['UFO']\n",
    "pytrends.build_payload(kw_list , timeframe ='2020-08-30 2020-09-05'\n",
    "                       , geo = 'US' )\n",
    "df3 = pytrends.interest_over_time()\n",
    "df3 \n",
    "\"\"\""
   ]
  }
 ],
 "metadata": {
  "kernelspec": {
   "display_name": "Python 3",
   "language": "python",
   "name": "python3"
  },
  "language_info": {
   "codemirror_mode": {
    "name": "ipython",
    "version": 3
   },
   "file_extension": ".py",
   "mimetype": "text/x-python",
   "name": "python",
   "nbconvert_exporter": "python",
   "pygments_lexer": "ipython3",
   "version": "3.8.5"
  }
 },
 "nbformat": 4,
 "nbformat_minor": 4
}
