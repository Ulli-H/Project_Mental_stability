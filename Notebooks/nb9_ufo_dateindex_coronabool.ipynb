{
 "cells": [
  {
   "cell_type": "code",
   "execution_count": 1,
   "metadata": {},
   "outputs": [],
   "source": [
    "# import usual suspects\n",
    "\n",
    "%matplotlib inline\n",
    "import pandas as pd\n",
    "import numpy as np\n",
    "from numpy import arange\n",
    "import math\n",
    "\n",
    "import seaborn as sns\n",
    "sns.set_style(\"white\")\n",
    "\n",
    "import scipy as sp\n",
    "from scipy import linalg, optimize\n",
    "\n",
    "import statsmodels.api as sm\n",
    "from statsmodels.sandbox.regression.predstd import wls_prediction_std\n",
    "from statsmodels.tsa.ar_model import AR\n",
    "from statsmodels.tsa.stattools import adfuller\n",
    "from statsmodels.tsa.arima_model import ARMA\n",
    "\n",
    "import collections\n",
    "from collections import Counter\n",
    "\n",
    "import matplotlib as mpl\n",
    "import matplotlib.pyplot as plt\n",
    "import matplotlib.path as mpath\n",
    "from matplotlib.dates import DateFormatter\n",
    "\n",
    "import calendar\n",
    "import datetime as dt\n",
    "fromtimestamp = dt.datetime.fromtimestamp\n",
    "from datetime import datetime\n",
    "\n",
    "from pandas.plotting import autocorrelation_plot\n",
    "from pandas.plotting import lag_plot"
   ]
  },
  {
   "cell_type": "code",
   "execution_count": 2,
   "metadata": {},
   "outputs": [
    {
     "data": {
      "text/html": [
       "<div>\n",
       "<style scoped>\n",
       "    .dataframe tbody tr th:only-of-type {\n",
       "        vertical-align: middle;\n",
       "    }\n",
       "\n",
       "    .dataframe tbody tr th {\n",
       "        vertical-align: top;\n",
       "    }\n",
       "\n",
       "    .dataframe thead th {\n",
       "        text-align: right;\n",
       "    }\n",
       "</style>\n",
       "<table border=\"1\" class=\"dataframe\">\n",
       "  <thead>\n",
       "    <tr style=\"text-align: right;\">\n",
       "      <th></th>\n",
       "      <th>startdateweek</th>\n",
       "      <th>weekly_ufocount</th>\n",
       "      <th>weekly_ufopct</th>\n",
       "      <th>year</th>\n",
       "      <th>month</th>\n",
       "      <th>weeknum</th>\n",
       "      <th>week_id</th>\n",
       "    </tr>\n",
       "  </thead>\n",
       "  <tbody>\n",
       "    <tr>\n",
       "      <th>0</th>\n",
       "      <td>2014-07-06</td>\n",
       "      <td>470</td>\n",
       "      <td>100.0</td>\n",
       "      <td>2014</td>\n",
       "      <td>7</td>\n",
       "      <td>27</td>\n",
       "      <td>2014-27</td>\n",
       "    </tr>\n",
       "  </tbody>\n",
       "</table>\n",
       "</div>"
      ],
      "text/plain": [
       "  startdateweek  weekly_ufocount  weekly_ufopct  year  month  weeknum  week_id\n",
       "0    2014-07-06              470          100.0  2014      7       27  2014-27"
      ]
     },
     "execution_count": 2,
     "metadata": {},
     "output_type": "execute_result"
    }
   ],
   "source": [
    "######################## ######################## ######################## ######################## ########################\n",
    "######################## ######################## ######################## ######################## ########################\n",
    "#\n",
    "# import cleaned weekly ufo data\n",
    "\n",
    "ufo = pd.read_csv('../Data/Datasets/cleandate_weekly_reval.csv',index_col=0)\n",
    "# copy into w(orking)ufo df\n",
    "wufo = ufo.copy().rename(columns={'rel_val_alltime':'weekly_ufopct'})\n",
    "# confirm\n",
    "wufo.head(1)"
   ]
  },
  {
   "cell_type": "code",
   "execution_count": 3,
   "metadata": {},
   "outputs": [
    {
     "data": {
      "text/plain": [
       "Index(['startdateweek', 'weekly_ufocount', 'weekly_ufopct', 'year', 'month',\n",
       "       'weeknum', 'week_id', 'date', 'const'],\n",
       "      dtype='object')"
      ]
     },
     "execution_count": 3,
     "metadata": {},
     "output_type": "execute_result"
    }
   ],
   "source": [
    "# add date col and sort values\n",
    "\n",
    "wufo['date'] = ufo['startdateweek']\n",
    "wufo = wufo.sort_values('date')\n",
    "\n",
    "# add constant\n",
    "wufo['const'] = 1\n",
    "\n",
    "# make date col datetime and set index to date\n",
    "wufo.date = pd.to_datetime(wufo.date)\n",
    "# dateindex\n",
    "wufo.index = pd.DatetimeIndex(wufo.date, freq='W')\n",
    "\n",
    "# confirm\n",
    "wufo.columns"
   ]
  },
  {
   "cell_type": "code",
   "execution_count": 4,
   "metadata": {},
   "outputs": [],
   "source": [
    "# add bool col for corona timeframe\n",
    "row_indexes = [x for x in wufo[wufo['startdateweek']>'2019-09-01'].index]\n",
    "wufo['corona'] ='yes'\n",
    "wufo.loc[row_indexes,'corona']='no'"
   ]
  },
  {
   "cell_type": "code",
   "execution_count": 3,
   "metadata": {},
   "outputs": [],
   "source": [
    "# export new wufo + to comment after\n",
    "#wufo.to_csv('../Data/Datasets/weeklufo_corona.csv')"
   ]
  },
  {
   "cell_type": "code",
   "execution_count": 178,
   "metadata": {},
   "outputs": [],
   "source": [
    "######################## ######################## ######################## ######################## ########################\n",
    "######################## ######################## ######################## ######################## ########################\n"
   ]
  }
 ],
 "metadata": {
  "kernelspec": {
   "display_name": "Python 3",
   "language": "python",
   "name": "python3"
  },
  "language_info": {
   "codemirror_mode": {
    "name": "ipython",
    "version": 3
   },
   "file_extension": ".py",
   "mimetype": "text/x-python",
   "name": "python",
   "nbconvert_exporter": "python",
   "pygments_lexer": "ipython3",
   "version": "3.8.5"
  }
 },
 "nbformat": 4,
 "nbformat_minor": 4
}
