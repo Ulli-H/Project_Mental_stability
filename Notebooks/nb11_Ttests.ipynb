{
 "cells": [
  {
   "cell_type": "code",
   "execution_count": 27,
   "metadata": {},
   "outputs": [],
   "source": [
    "# import usual suspects\n",
    "\n",
    "%matplotlib inline\n",
    "import pandas as pd\n",
    "import numpy as np\n",
    "from numpy import arange\n",
    "import math\n",
    "\n",
    "import seaborn as sns\n",
    "sns.set_style(\"white\")\n",
    "\n",
    "import scipy as sp\n",
    "from scipy import linalg, optimize\n",
    "\n",
    "import statsmodels.api as sm\n",
    "from statsmodels.sandbox.regression.predstd import wls_prediction_std\n",
    "from statsmodels.tsa.ar_model import AR\n",
    "from statsmodels.tsa.stattools import adfuller\n",
    "from statsmodels.tsa.arima_model import ARMA\n",
    "\n",
    "import collections\n",
    "from collections import Counter\n",
    "\n",
    "import matplotlib as mpl\n",
    "import matplotlib.pyplot as plt\n",
    "import matplotlib.path as mpath\n",
    "from matplotlib.dates import DateFormatter\n",
    "\n",
    "import calendar\n",
    "import datetime as dt\n",
    "fromtimestamp = dt.datetime.fromtimestamp\n",
    "from datetime import datetime\n",
    "\n",
    "from pandas.plotting import autocorrelation_plot\n",
    "from pandas.plotting import lag_plot"
   ]
  },
  {
   "cell_type": "code",
   "execution_count": 28,
   "metadata": {},
   "outputs": [
    {
     "data": {
      "text/html": [
       "<div>\n",
       "<style scoped>\n",
       "    .dataframe tbody tr th:only-of-type {\n",
       "        vertical-align: middle;\n",
       "    }\n",
       "\n",
       "    .dataframe tbody tr th {\n",
       "        vertical-align: top;\n",
       "    }\n",
       "\n",
       "    .dataframe thead th {\n",
       "        text-align: right;\n",
       "    }\n",
       "</style>\n",
       "<table border=\"1\" class=\"dataframe\">\n",
       "  <thead>\n",
       "    <tr style=\"text-align: right;\">\n",
       "      <th></th>\n",
       "      <th>startdateweek</th>\n",
       "      <th>weekly_ufocount</th>\n",
       "      <th>weekly_ufopct</th>\n",
       "      <th>year</th>\n",
       "      <th>month</th>\n",
       "      <th>weeknum</th>\n",
       "      <th>week_id</th>\n",
       "    </tr>\n",
       "  </thead>\n",
       "  <tbody>\n",
       "    <tr>\n",
       "      <th>761</th>\n",
       "      <td>2006-03-26</td>\n",
       "      <td>5</td>\n",
       "      <td>1.063830</td>\n",
       "      <td>2006</td>\n",
       "      <td>3</td>\n",
       "      <td>12</td>\n",
       "      <td>2006-12</td>\n",
       "    </tr>\n",
       "    <tr>\n",
       "      <th>762</th>\n",
       "      <td>2006-03-05</td>\n",
       "      <td>5</td>\n",
       "      <td>1.063830</td>\n",
       "      <td>2006</td>\n",
       "      <td>3</td>\n",
       "      <td>9</td>\n",
       "      <td>2006-9</td>\n",
       "    </tr>\n",
       "    <tr>\n",
       "      <th>763</th>\n",
       "      <td>2006-01-08</td>\n",
       "      <td>3</td>\n",
       "      <td>0.638298</td>\n",
       "      <td>2006</td>\n",
       "      <td>1</td>\n",
       "      <td>1</td>\n",
       "      <td>2006-1</td>\n",
       "    </tr>\n",
       "    <tr>\n",
       "      <th>764</th>\n",
       "      <td>2006-02-05</td>\n",
       "      <td>2</td>\n",
       "      <td>0.425532</td>\n",
       "      <td>2006</td>\n",
       "      <td>2</td>\n",
       "      <td>5</td>\n",
       "      <td>2006-5</td>\n",
       "    </tr>\n",
       "    <tr>\n",
       "      <th>765</th>\n",
       "      <td>2006-02-26</td>\n",
       "      <td>2</td>\n",
       "      <td>0.425532</td>\n",
       "      <td>2006</td>\n",
       "      <td>2</td>\n",
       "      <td>8</td>\n",
       "      <td>2006-8</td>\n",
       "    </tr>\n",
       "  </tbody>\n",
       "</table>\n",
       "</div>"
      ],
      "text/plain": [
       "    startdateweek  weekly_ufocount  weekly_ufopct  year  month  weeknum  \\\n",
       "761    2006-03-26                5       1.063830  2006      3       12   \n",
       "762    2006-03-05                5       1.063830  2006      3        9   \n",
       "763    2006-01-08                3       0.638298  2006      1        1   \n",
       "764    2006-02-05                2       0.425532  2006      2        5   \n",
       "765    2006-02-26                2       0.425532  2006      2        8   \n",
       "\n",
       "     week_id  \n",
       "761  2006-12  \n",
       "762   2006-9  \n",
       "763   2006-1  \n",
       "764   2006-5  \n",
       "765   2006-8  "
      ]
     },
     "execution_count": 28,
     "metadata": {},
     "output_type": "execute_result"
    }
   ],
   "source": [
    "######################## ######################## ######################## ######################## ########################\n",
    "######################## ######################## ######################## ######################## ########################\n",
    "#\n",
    "# import cleaned weekly ufo data\n",
    "\n",
    "ufo = pd.read_csv('../Data/Datasets/weeklufo_corona.csv',index_col=0)\n",
    "\n",
    "# copy into w(orking)ufo df\n",
    "wufo = ufo.copy().rename(columns={'rel_val_alltime':'weekly_ufopct'})\n",
    "\n",
    "# confirm\n",
    "wufo.tail()"
   ]
  },
  {
   "cell_type": "code",
   "execution_count": 44,
   "metadata": {},
   "outputs": [],
   "source": [
    "# import dataset ufo arma + copy to ufa df\n",
    "\n",
    "ufoarma = pd.read_csv('../Data/Datasets/nb6_ufoarma.csv')\n",
    "ufa = ufoarma.copy()"
   ]
  },
  {
   "cell_type": "code",
   "execution_count": 37,
   "metadata": {},
   "outputs": [],
   "source": [
    "# storing in lists\n",
    "obs1 = ufa['observed'].to_list()\n",
    "pred1 = ufa['predicted'].to_list()\n",
    "dat = ufa['date'].to_list()"
   ]
  },
  {
   "cell_type": "code",
   "execution_count": 38,
   "metadata": {},
   "outputs": [],
   "source": [
    "# datetime col + index for ufa df\n",
    "ufa.date = pd.to_datetime(ufa.date)\n",
    "ufa.index = pd.DatetimeIndex(ufa.date,freq='W')"
   ]
  },
  {
   "cell_type": "code",
   "execution_count": 39,
   "metadata": {},
   "outputs": [
    {
     "data": {
      "text/html": [
       "<div>\n",
       "<style scoped>\n",
       "    .dataframe tbody tr th:only-of-type {\n",
       "        vertical-align: middle;\n",
       "    }\n",
       "\n",
       "    .dataframe tbody tr th {\n",
       "        vertical-align: top;\n",
       "    }\n",
       "\n",
       "    .dataframe thead th {\n",
       "        text-align: right;\n",
       "    }\n",
       "</style>\n",
       "<table border=\"1\" class=\"dataframe\">\n",
       "  <thead>\n",
       "    <tr style=\"text-align: right;\">\n",
       "      <th></th>\n",
       "      <th>observed</th>\n",
       "      <th>predicted</th>\n",
       "    </tr>\n",
       "    <tr>\n",
       "      <th>date</th>\n",
       "      <th></th>\n",
       "      <th></th>\n",
       "    </tr>\n",
       "  </thead>\n",
       "  <tbody>\n",
       "    <tr>\n",
       "      <th>2019-12-08</th>\n",
       "      <td>19.361702</td>\n",
       "      <td>23.708801</td>\n",
       "    </tr>\n",
       "    <tr>\n",
       "      <th>2019-12-15</th>\n",
       "      <td>31.276596</td>\n",
       "      <td>22.434861</td>\n",
       "    </tr>\n",
       "    <tr>\n",
       "      <th>2019-12-22</th>\n",
       "      <td>34.680851</td>\n",
       "      <td>25.760850</td>\n",
       "    </tr>\n",
       "    <tr>\n",
       "      <th>2019-12-29</th>\n",
       "      <td>23.617021</td>\n",
       "      <td>27.863328</td>\n",
       "    </tr>\n",
       "    <tr>\n",
       "      <th>2020-01-05</th>\n",
       "      <td>17.659574</td>\n",
       "      <td>25.200226</td>\n",
       "    </tr>\n",
       "  </tbody>\n",
       "</table>\n",
       "</div>"
      ],
      "text/plain": [
       "             observed  predicted\n",
       "date                            \n",
       "2019-12-08  19.361702  23.708801\n",
       "2019-12-15  31.276596  22.434861\n",
       "2019-12-22  34.680851  25.760850\n",
       "2019-12-29  23.617021  27.863328\n",
       "2020-01-05  17.659574  25.200226"
      ]
     },
     "execution_count": 39,
     "metadata": {},
     "output_type": "execute_result"
    }
   ],
   "source": [
    "# t(emporary) ufa copy without date col\n",
    "tufa = ufa.copy().drop(columns={'date'})\n",
    "tufa.head()"
   ]
  },
  {
   "cell_type": "code",
   "execution_count": 40,
   "metadata": {},
   "outputs": [],
   "source": [
    "# storing in lists\n",
    "obs2 = tufa['observed'].to_list()\n",
    "pred2 = tufa['predicted'].to_list()"
   ]
  },
  {
   "cell_type": "markdown",
   "metadata": {},
   "source": [
    "# T-Tests"
   ]
  },
  {
   "cell_type": "code",
   "execution_count": 41,
   "metadata": {},
   "outputs": [
    {
     "data": {
      "text/plain": [
       "Ttest_1sampResult(statistic=52.504527546746914, pvalue=7.577308488245331e-256)"
      ]
     },
     "execution_count": 41,
     "metadata": {},
     "output_type": "execute_result"
    }
   ],
   "source": [
    "# T-test 1 sample: weekly ufo counts\n",
    "\n",
    "        # storing ufo counts to list\n",
    "ufocounts = wufo['weekly_ufocount'].to_list()\n",
    "\n",
    "        # perform ttest\n",
    "sp.stats.ttest_1samp(ufocounts, popmean=0)\n",
    "             # scipy.stats.ttest_1samp accepts the population mean as the second \"group\"\n",
    "\n",
    "    \n",
    "                # OUT: Ttest_1sampResult(statistic=52.504527546746914, pvalue=7.577308488245331e-256)   \n",
    "        \n",
    "                                                                        "
   ]
  },
  {
   "cell_type": "code",
   "execution_count": 42,
   "metadata": {},
   "outputs": [
    {
     "data": {
      "text/plain": [
       "Ttest_indResult(statistic=0.36349723616468227, pvalue=0.7172168241649526)"
      ]
     },
     "execution_count": 42,
     "metadata": {},
     "output_type": "execute_result"
    }
   ],
   "source": [
    " # T-test 2 sample: \n",
    "    # T-tests for predicted and observerd val during corona \n",
    "\n",
    "\n",
    "    # 1. t-test two samples, df: ufa\n",
    "\n",
    "sp.stats.ttest_ind(obs1,pred1)\n",
    "\n",
    "    # OUT: Ttest_indResult(statistic=0.36349723616468227, pvalue=0.7172168241649526)\n",
    "    \n",
    "                                                                         "
   ]
  },
  {
   "cell_type": "markdown",
   "metadata": {},
   "source": [
    "# Summary T-Tests\n",
    "\n",
    "T-Test can be used to **compare the means of two samples**. \n",
    "\n",
    "If you have more than 2 samples, you will have to run a pairwise T-Test on all samples - or use another and ***muuuuuch*** better statistical hypothesis method called **Anova**. \n",
    "\n",
    "Ttest is of more use if you don’t know the population’s mean and standard deviation. But we do.\n",
    "\n",
    "Plus: In the T-Test, you are comparing **2 samples of an unknown population**. A sample is a randomly chosen set of data points from a population. If you do know the population’s mean and standard deviation, you would actually run a **Z-Test** instead.\n",
    "\n",
    "**So. Ttest is actually only for small number of samples. Not huge ones like our impressive UFO dataset.** \n",
    "\n",
    "The T-Test is commonly used when you have less than 30 samples in each of the groups. We can use it for the monthly means before and after corona. \n",
    "\n",
    "**This⬈ is DONE in Notebook7 of this project**\n",
    "\n",
    "T-Test is only used if the samples are SMALL or follow a NORMAL distribution. Why? Ask the **Central Limit Theorem**."
   ]
  },
  {
   "cell_type": "code",
   "execution_count": null,
   "metadata": {},
   "outputs": [],
   "source": []
  }
 ],
 "metadata": {
  "kernelspec": {
   "display_name": "Python 3",
   "language": "python",
   "name": "python3"
  },
  "language_info": {
   "codemirror_mode": {
    "name": "ipython",
    "version": 3
   },
   "file_extension": ".py",
   "mimetype": "text/x-python",
   "name": "python",
   "nbconvert_exporter": "python",
   "pygments_lexer": "ipython3",
   "version": "3.8.5"
  }
 },
 "nbformat": 4,
 "nbformat_minor": 4
}
